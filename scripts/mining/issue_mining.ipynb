{
 "cells": [
  {
   "cell_type": "markdown",
   "source": [
    "# Issue Mining"
   ],
   "metadata": {
    "collapsed": false,
    "pycharm": {
     "name": "#%% md\n"
    }
   }
  },
  {
   "cell_type": "code",
   "execution_count": null,
   "metadata": {
    "collapsed": true,
    "pycharm": {
     "name": "#%%\n"
    }
   },
   "outputs": [],
   "source": [
    "import time\n",
    "import json\n",
    "import calendar\n",
    "from perceval.backends.core.github import GitHub as pGithub\n",
    "from github import Github\n",
    "from pathlib import Path"
   ]
  },
  {
   "cell_type": "markdown",
   "source": [
    "### Logging into GitHub\n",
    "\n",
    "The access token is necessary for Perceval and it is declared here.\n",
    "The GitHub logic is also necessary to calculate the Rate Limit waiting time."
   ],
   "metadata": {
    "collapsed": false,
    "pycharm": {
     "name": "#%% md\n"
    }
   }
  },
  {
   "cell_type": "code",
   "execution_count": null,
   "outputs": [],
   "source": [
    "# Providing access token\n",
    "access_token = \"< YOUR PRIVATE ACCESS TOKEN >\"\n",
    "g = Github(login_or_token=access_token)\n",
    "\n",
    "# Confirm your login is successful\n",
    "user = g.get_user()\n",
    "print(f\"Authenticated as: {user.login}\")"
   ],
   "metadata": {
    "collapsed": false,
    "pycharm": {
     "name": "#%%\n",
     "is_executing": true
    }
   }
  },
  {
   "cell_type": "markdown",
   "source": [
    "### Preparing Data\n",
    "\n",
    "We take the repository URLs from all the commits that contain one of our keyword, ``terraform_keyworded.json`` was obtained during commit mining."
   ],
   "metadata": {
    "collapsed": false,
    "pycharm": {
     "name": "#%% md\n"
    }
   }
  },
  {
   "cell_type": "code",
   "execution_count": null,
   "outputs": [],
   "source": [
    "terraform_keyworded_urls = []\n",
    "f = open('terraform_keyworded.json')\n",
    "data = json.load(f)\n",
    "\n",
    "for entry in data['repositories']:\n",
    "    terraform_keyworded_urls.append(entry['name'])"
   ],
   "metadata": {
    "collapsed": false,
    "pycharm": {
     "name": "#%%\n"
    }
   }
  },
  {
   "cell_type": "markdown",
   "source": [
    "### Extracting relevant issues\n",
    "\n",
    "The following script makes use of Perceval to extract any issue that contains a cost-related keyword in either the title, body or comments. Pull requests are NOT filtered and are still part of the end result.\n",
    "This process is highly time-consuming, therefore in the off chance we incur in the GitHub API limit, a proper waiting time is implemented which calculates exactly how long it takes to reset our limits."
   ],
   "metadata": {
    "collapsed": false,
    "pycharm": {
     "name": "#%% md\n"
    }
   }
  },
  {
   "cell_type": "code",
   "execution_count": null,
   "outputs": [],
   "source": [
    "cost_keywords = ['cheap', 'expens', 'cost', 'efficient', 'pay', 'bill']\n",
    "relevant_repos = []\n",
    "count = 0\n",
    "\n",
    "for repo in terraform_keyworded_urls:\n",
    "    print(repo)\n",
    "    time.sleep(2)\n",
    "    count += 1\n",
    "    try:\n",
    "        if count % 50 == 0:\n",
    "            time.sleep(120)\n",
    "            print(f\"At: {count}\")\n",
    "\n",
    "        # Extracting owner username and repository name from the URL\n",
    "        owner = repo.split('/')[3]\n",
    "        repository = \".\".join(repo.split('/')[4].split('.')[:-1])\n",
    "        fetched = pGithub(owner=owner, repository=repository, api_token=[access_token])\n",
    "        issue_list = []\n",
    "\n",
    "        for item in fetched.fetch():\n",
    "            time.sleep(1)\n",
    "            item_data = item['data']\n",
    "            # initialize all entries in case of empty fields (to prevent errors)\n",
    "            issue_type = 'issue'\n",
    "            if 'pull_request' in item_data:\n",
    "                issue_type = 'pull_request'\n",
    "\n",
    "            title_flag = False\n",
    "            body_flag = False\n",
    "            comment_flag = False\n",
    "\n",
    "            # If title, body or comments contain any of the keywords, then the issue is relevant\n",
    "            if 'title' in item_data and item_data['title'] is not None and any(key in item_data['title'] for key in cost_keywords):\n",
    "                title_flag = True\n",
    "            elif 'body' in item_data and item_data['body'] is not None and any(key in item_data['body'] for key in cost_keywords):\n",
    "                    body_flag = True\n",
    "            elif 'comments_data' in item_data and 'comments_data' is not None:\n",
    "                for comment in item_data['comments_data']:\n",
    "                    if 'body' in comment and comment['body'] is not None and any(key in comment['body'] for key in cost_keywords):\n",
    "                        comment_flag = True\n",
    "                        break\n",
    "\n",
    "            time.sleep(1)\n",
    "\n",
    "            if title_flag or body_flag or comment_flag:\n",
    "                print(\"-adding elements to dictionary\")\n",
    "                issue_dict = {\n",
    "                'title': None if 'title' not in item_data else item_data['title'],\n",
    "                'html_url': None if 'html_url' not in item_data else item_data['html_url'],\n",
    "                'user': None if 'user' not in item_data else item_data['user']['url'],\n",
    "                'category': issue_type,\n",
    "                'labels': None if 'labels' not in item_data else item_data['labels'],\n",
    "                'closed_at': None if 'closed_at' not in item_data else item_data['closed_at'],\n",
    "                'assignee': None if 'assignee' not in item_data else item_data['assignee'],\n",
    "                'assignees': None if 'assignees' not in item_data else item_data['assignees'],\n",
    "                'body': None if 'body' not in item_data else item_data['body'],\n",
    "                'comments': None if 'comments' not in item_data else item_data['comments'],\n",
    "                'comments_data': None if 'comments_data' not in item_data else item_data['comments_data']\n",
    "                }\n",
    "                issue_list.append(issue_dict)\n",
    "\n",
    "        repo_dic = {\"name\":repo, \"issues\":issue_list}\n",
    "        if len(issue_list) > 0:\n",
    "            relevant_repos.append(repo_dic)\n",
    "\n",
    "    except Exception as e:\n",
    "        print(f\"Repo: {repo} failed\")\n",
    "        print(e)\n",
    "        core_rate_limit = g.get_rate_limit().core\n",
    "        reset_timestamp = calendar.timegm(core_rate_limit.reset.timetuple())\n",
    "        sleep_time = reset_timestamp - calendar.timegm(time.gmtime()) + 5  # add 5 seconds to be sure the rate limit has been reset\n",
    "        time.sleep(sleep_time)\n",
    "        with open(\"terraform_issues_error_list.txt\", \"a\") as file:\n",
    "            file.write(f\"{repo}\\n\")"
   ],
   "metadata": {
    "collapsed": false,
    "pycharm": {
     "name": "#%%\n",
     "is_executing": true
    }
   }
  },
  {
   "cell_type": "markdown",
   "source": [
    "### Writing our results\n",
    "\n",
    "Our results are saved in a JSON file for later analysis."
   ],
   "metadata": {
    "collapsed": false,
    "pycharm": {
     "name": "#%% md\n"
    }
   }
  },
  {
   "cell_type": "code",
   "execution_count": null,
   "outputs": [],
   "source": [
    "myfile = Path('terraform_issues_updated.json')  # Failsafe if I forget to create the file\n",
    "myfile.touch(exist_ok=True)\n",
    "\n",
    "output = {\"no_of_repos\":len(relevant_repos) ,\"repositories\": relevant_repos}\n",
    "with open(\"terraform_issues_updated.json\", \"w\") as outfile:\n",
    "    json.dump(output, outfile)"
   ],
   "metadata": {
    "collapsed": false,
    "pycharm": {
     "name": "#%%\n"
    }
   }
  }
 ],
 "metadata": {
  "kernelspec": {
   "display_name": "Python 3",
   "language": "python",
   "name": "python3"
  },
  "language_info": {
   "codemirror_mode": {
    "name": "ipython",
    "version": 2
   },
   "file_extension": ".py",
   "mimetype": "text/x-python",
   "name": "python",
   "nbconvert_exporter": "python",
   "pygments_lexer": "ipython2",
   "version": "2.7.6"
  }
 },
 "nbformat": 4,
 "nbformat_minor": 0
}