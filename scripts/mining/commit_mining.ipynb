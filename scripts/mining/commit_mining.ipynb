{
 "cells": [
  {
   "cell_type": "markdown",
   "source": [
    "# Commits Mining"
   ],
   "metadata": {
    "collapsed": false,
    "pycharm": {
     "name": "#%% md\n"
    }
   }
  },
  {
   "cell_type": "code",
   "execution_count": 1,
   "metadata": {
    "collapsed": true,
    "pycharm": {
     "name": "#%%\n"
    }
   },
   "outputs": [],
   "source": [
    "import json\n",
    "from pydriller import Repository"
   ]
  },
  {
   "cell_type": "markdown",
   "source": [
    "### Preparing our data\n",
    "\n",
    "We begin by reading all the previously extracted Terraform repositories.\n",
    "We then style a keyword list meant to be used in the commit message filtering phase."
   ],
   "metadata": {
    "collapsed": false,
    "pycharm": {
     "name": "#%% md\n"
    }
   }
  },
  {
   "cell_type": "code",
   "execution_count": null,
   "outputs": [],
   "source": [
    "# read urls from the file and strip the '\\n'\n",
    "all_repos = open('terraform_repos.txt', 'r')\n",
    "repo_links = [repo.strip() for repo in all_repos.readlines()]\n",
    "cost_keywords = ['cheap', 'expens', 'cost', 'efficient', 'bill', 'pay']"
   ],
   "metadata": {
    "collapsed": false,
    "pycharm": {
     "name": "#%%\n"
    }
   }
  },
  {
   "cell_type": "markdown",
   "source": [
    "### Extracting relevant commits\n",
    "\n",
    "The following script makes use of PyDriller. For every commit in the repositories if a commit message exists and any of the keywords appear in it, then it is taken into consideration.\n",
    "The information saved are: commit id, message, author, date and list of modified files.\n",
    "If none of the commits resulted to be relevant, then the whole repository is discarded.\n",
    "Any repository that is not accessible at the time is saved in the ``commit_not_retrievable.txt`` for later re-analysis."
   ],
   "metadata": {
    "collapsed": false,
    "pycharm": {
     "name": "#%% md\n"
    }
   }
  },
  {
   "cell_type": "code",
   "execution_count": null,
   "outputs": [],
   "source": [
    "relevant_repos = []\n",
    "count = 0\n",
    "for repo in repo_links:\n",
    "    commits = []\n",
    "\n",
    "    if count % 100 == 0:\n",
    "        print(\"Got to {}\".format(count))\n",
    "\n",
    "    try:\n",
    "        # For each commit in the repository\n",
    "        for commit in Repository(repo).traverse_commits():\n",
    "            # If any of the keyword appear in the commit message\n",
    "            if commit.msg is not None and any(key in commit.msg.lower() for key in cost_keywords):\n",
    "                changed_files = []\n",
    "                # Save the modified files\n",
    "                for file in commit.modified_files:\n",
    "                    changed_files.append(file.filename)\n",
    "                commit_dic = {\"id\": commit.hash, \"msg\":commit.msg, \"author\":commit.author.name, \"date\":str(commit.author_date),\n",
    "                              \"modified_files\": changed_files}\n",
    "                commits.append(commit_dic)\n",
    "        repo_dic = {\"name\":repo, \"commits\":commits}\n",
    "\n",
    "        # Mark the repository as relevant if it has any relevant commits\n",
    "        if len(commits) != 0:\n",
    "            relevant_repos.append(repo_dic)\n",
    "    except Exception as e:\n",
    "        # so that we document what errors can happen when accessing commits\n",
    "        print(f\"{e}\\n{repo}\")\n",
    "        with open(\"commit_not_retrievable.txt\", \"a\") as file:\n",
    "            file.write(f\"{repo}\\n\")\n",
    "    count = count + 1"
   ],
   "metadata": {
    "collapsed": false,
    "pycharm": {
     "name": "#%%\n"
    }
   }
  },
  {
   "cell_type": "markdown",
   "source": [
    "### Saving to JSON\n",
    "\n",
    "Our results are saved in a JSON file for safekeeping and future analysis."
   ],
   "metadata": {
    "collapsed": false,
    "pycharm": {
     "name": "#%% md\n"
    }
   }
  },
  {
   "cell_type": "code",
   "execution_count": null,
   "outputs": [],
   "source": [
    "output = {\"no_of_repos\":len(relevant_repos) ,\"repositories\": relevant_repos}\n",
    "with open(\"terraform_keyworded.json\", \"w\") as outfile:\n",
    "    json.dump(output, outfile)"
   ],
   "metadata": {
    "collapsed": false,
    "pycharm": {
     "name": "#%%\n"
    }
   }
  },
  {
   "cell_type": "markdown",
   "source": [
    "### Repository selection\n",
    "\n",
    "This script refines the previous JSON file so that only commits that modify ``.tf`` and ``.tf.json`` files are taken into consideration."
   ],
   "metadata": {
    "collapsed": false,
    "pycharm": {
     "name": "#%% md\n"
    }
   }
  },
  {
   "cell_type": "code",
   "execution_count": null,
   "outputs": [],
   "source": [
    "# Opening JSON file\n",
    "terraform_output = open('terraform_keyworded.json')\n",
    "selected_repos = json.load(terraform_output)\n",
    "\n",
    "filtered_repos = []\n",
    "terraform_keywords = ['.tf', '.tf.json']\n",
    "print(len(selected_repos[\"repositories\"]))\n",
    "\n",
    "for repo in selected_repos[\"repositories\"]:\n",
    "    relevant_commits = []\n",
    "    flag = False\n",
    "    for commit in repo[\"commits\"]:\n",
    "        for mod_file in commit[\"modified_files\"]:\n",
    "            if mod_file is not None and any(key in mod_file for key in terraform_keywords):\n",
    "                relevant_commits.append(commit)\n",
    "                flag = True\n",
    "                break\n",
    "\n",
    "    if flag:\n",
    "        # new_commit_repo = {\"name\":repo[\"name\"], \"commits\":relevant_commits}\n",
    "        repo[\"commits\"] = relevant_commits\n",
    "        filtered_repos.append(repo)\n",
    "\n",
    "\n",
    "\n",
    "print(f\"Identified {len(filtered_repos)}\")\n",
    "\n",
    "output = {\"no_of_repos\":len(filtered_repos) ,\"repositories\": filtered_repos}\n",
    "with open(\"terraform_tf_keywords\", \"w\") as outfile:\n",
    "    json.dump(output, outfile)"
   ],
   "metadata": {
    "collapsed": false,
    "pycharm": {
     "name": "#%%\n"
    }
   }
  }
 ],
 "metadata": {
  "kernelspec": {
   "display_name": "Python 3",
   "language": "python",
   "name": "python3"
  },
  "language_info": {
   "codemirror_mode": {
    "name": "ipython",
    "version": 2
   },
   "file_extension": ".py",
   "mimetype": "text/x-python",
   "name": "python",
   "nbconvert_exporter": "python",
   "pygments_lexer": "ipython2",
   "version": "2.7.6"
  }
 },
 "nbformat": 4,
 "nbformat_minor": 0
}