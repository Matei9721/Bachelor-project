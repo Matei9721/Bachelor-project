{
 "cells": [
  {
   "cell_type": "markdown",
   "metadata": {
    "pycharm": {
     "name": "#%% md\n"
    }
   },
   "source": [
    "# Repository Mining"
   ]
  },
  {
   "cell_type": "code",
   "execution_count": 1,
   "metadata": {
    "collapsed": true,
    "pycharm": {
     "name": "#%%\n"
    }
   },
   "outputs": [],
   "source": [
    "from github import RateLimitExceededException, Github\n",
    "import time"
   ]
  },
  {
   "cell_type": "markdown",
   "metadata": {
    "pycharm": {
     "name": "#%% md\n"
    }
   },
   "source": [
    "### Providing GitHub credentials\n",
    "\n",
    "A private access token is necessary to make use of less restrictive API limits."
   ]
  },
  {
   "cell_type": "code",
   "execution_count": null,
   "metadata": {
    "pycharm": {
     "name": "#%%\n"
    }
   },
   "outputs": [],
   "source": [
    "# Providing access token\n",
    "access_token = \"< YOUR PRIVATE ACCESS TOKEN >\"\n",
    "g = Github(login_or_token=access_token)\n",
    "\n",
    "# Confirm your login is successful\n",
    "user = g.get_user()\n",
    "print(f\"Authenticated as: {user.login}\")"
   ]
  },
  {
   "cell_type": "markdown",
   "metadata": {
    "pycharm": {
     "name": "#%% md\n"
    }
   },
   "source": [
    "### Repository recovery using GitHub search parameters\n",
    "\n",
    "This script queries the GitHub search API for repositories that use HCL as language, for each individual day from 2014 until present day.\n",
    "Some dates queried do not exist, an exception is caught to avoid interruptions.\n",
    "Every repository is saved in ``hclURLs.txt`` so no progress is lost in case of interruptions."
   ]
  },
  {
   "cell_type": "code",
   "execution_count": null,
   "metadata": {
    "pycharm": {
     "name": "#%%\n"
    }
   },
   "outputs": [],
   "source": [
    "script_urls = []\n",
    "for year in range(2014, 2023):\n",
    "    for month in range(1, 13):\n",
    "        print(f\"Scraping month {month} of year {year}\")\n",
    "        for day in range(1, 32):\n",
    "            # Formatting compatible with search parameters\n",
    "            date = f\"{year}-{month:02d}-{day:02d}\"\n",
    "            try:\n",
    "                time.sleep(2)  # sleep to reset API search limit\n",
    "                repos = g.search_repositories(query=f\"created:{date} language:HCL\")\n",
    "                for repo in repos:\n",
    "                    time.sleep(0.2)  # sleep to reset API core limit\n",
    "                    # URLs are added to a txt file to avoid data loss\n",
    "                    with open(\"hclURLs.txt\", \"a\") as file:\n",
    "                        file.write(f\"{repo.clone_url}\\n\")\n",
    "                    script_urls.append(repo.clone_url)\n",
    "            except RateLimitExceededException:\n",
    "                print(\"Rate Limit Exception reached!\")\n",
    "            except Exception as e:\n",
    "                print(e)\n",
    "                # These are impossible dates (31-2-2022)\n",
    "                print(f\"Skipping: {date}\")"
   ]
  },
  {
   "cell_type": "code",
   "execution_count": null,
   "metadata": {
    "pycharm": {
     "name": "#%%\n"
    }
   },
   "outputs": [],
   "source": [
    "# Number of HCL repositories obtained\n",
    "print(len(script_urls))"
   ]
  },
  {
   "cell_type": "markdown",
   "metadata": {
    "pycharm": {
     "name": "#%% md\n"
    }
   },
   "source": [
    "### Mining for Terraform Repositories\n",
    "\n",
    "We start by reading the repositories saved in ``hclURLs.txt`` from the previous script."
   ]
  },
  {
   "cell_type": "code",
   "execution_count": null,
   "metadata": {
    "pycharm": {
     "name": "#%%# read urls from the file and strip the '\\n'\n"
    }
   },
   "outputs": [],
   "source": [
    "# read urls from the file and strip the '\\n'\n",
    "gitUrls_file = open('hclURLs.txt', 'r')\n",
    "repo_links = gitUrls_file.readlines()\n",
    "repo_links = [repo.strip() for repo in repo_links]"
   ]
  },
  {
   "cell_type": "markdown",
   "metadata": {
    "pycharm": {
     "name": "#%% md\n"
    }
   },
   "source": [
    "The following script scans for the content of each repository looking for files with extension ``.tf`` and ``.tf.json``, which are Terraform artifact files.\n",
    "If any of the repositories is not reachable for any reason, its URL is added to ``404_list.txt`` for later re-analysis."
   ]
  },
  {
   "cell_type": "code",
   "execution_count": null,
   "metadata": {
    "pycharm": {
     "name": "#%%\n"
    }
   },
   "outputs": [],
   "source": [
    "counter = 0\n",
    "terraform_keywords = ['.tf', '.tf.json']\n",
    "terraform_relevant_repos = []\n",
    "for repo_url in repo_links:\n",
    "    if counter % 100 == 0:\n",
    "        print(f'Got to {counter}')\n",
    "    try:\n",
    "        time.sleep(2)  # sleep for API search limit\n",
    "        split_list = repo_url.split(\"/\")\n",
    "        actual_url = split_list[3]+ '/' + split_list[4]\n",
    "        repo = g.get_repo(actual_url.split('.git')[0])\n",
    "        contents = repo.get_contents('')\n",
    "        while contents:\n",
    "            time.sleep(0.2)  # sleep for API core limit\n",
    "            file_content = contents.pop(0)\n",
    "            if file_content.type == \"dir\":\n",
    "                contents.extend(repo.get_contents(file_content.path))\n",
    "            else:\n",
    "                if file_content.name is not None and any(key in file_content.name.lower() for key in terraform_keywords):\n",
    "                    terraform_relevant_repos.append(repo_url)\n",
    "                    with open(\"terraform_repos.txt\", \"a\") as file:\n",
    "                        file.write(f\"{repo_url}\\n\")\n",
    "                    break\n",
    "        counter += 1\n",
    "    except RateLimitExceededException:\n",
    "        print(\"Rate Limit Exception reached!\")\n",
    "    except Exception as e:\n",
    "        print(f\"{e}\\n{repo_url}\")\n",
    "        with open(\"404_list.txt\", \"a\") as file:\n",
    "            file.write(f\"{repo_url}\\n\")"
   ]
  }
 ],
 "metadata": {
  "kernelspec": {
   "display_name": "Python 3 (ipykernel)",
   "language": "python",
   "name": "python3"
  },
  "language_info": {
   "codemirror_mode": {
    "name": "ipython",
    "version": 3
   },
   "file_extension": ".py",
   "mimetype": "text/x-python",
   "name": "python",
   "nbconvert_exporter": "python",
   "pygments_lexer": "ipython3",
   "version": "3.8.10"
  }
 },
 "nbformat": 4,
 "nbformat_minor": 1
}