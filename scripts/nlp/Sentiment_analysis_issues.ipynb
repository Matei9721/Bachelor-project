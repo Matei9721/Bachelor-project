{
 "cells": [
  {
   "cell_type": "markdown",
   "source": [
    "# TextBlob\n",
    "\n",
    "### Run from this cell below until Vader for TextBlob experiments."
   ],
   "attachments": {},
   "metadata": {
    "datalore": {
     "type": "MD",
     "hide_input_from_viewers": false,
     "hide_output_from_viewers": false,
     "sheet_delimiter": true
    },
    "pycharm": {
     "name": "#%% md\n"
    }
   }
  },
  {
   "cell_type": "code",
   "source": [
    "# Import all needed packages for loading data and running sentiment analysis\n",
    "import pygsheets\n",
    "import pandas as pd\n",
    "import numpy as np\n",
    "import json\n",
    "from markdown import markdown\n",
    "from bs4 import BeautifulSoup\n",
    "from textblob import TextBlob\n",
    "from sklearn.metrics import confusion_matrix, precision_recall_fscore_support"
   ],
   "execution_count": 148,
   "outputs": [],
   "metadata": {
    "datalore": {
     "type": "CODE",
     "hide_input_from_viewers": false,
     "hide_output_from_viewers": false
    },
    "pycharm": {
     "name": "#%%\n"
    }
   }
  },
  {
   "cell_type": "markdown",
   "source": [
    "## Load the labeled data from the Google Drive into a Pandas dataframe"
   ],
   "attachments": {},
   "metadata": {
    "datalore": {
     "type": "MD",
     "hide_input_from_viewers": false,
     "hide_output_from_viewers": false
    },
    "pycharm": {
     "name": "#%% md\n"
    }
   }
  },
  {
   "cell_type": "code",
   "execution_count": null,
   "outputs": [],
   "source": [
    "# Access the sheets and get the commit sheet (uncomment)\n",
    "# Either change the service_file with your personal file, or use the local version of the CSV document.\n",
    "\n",
    "# gc = pygsheets.authorize(service_file='commitevalutaion-6a3c4370bf89.json')\n",
    "# sheets = gc.open_by_url(\"https://docs.google.com/spreadsheets/d/1OYsymuoRJGAXTHQImI0ycbN2NQhsxSkqlj-W-PEHRvw/edit#gid=1782607577\")\n",
    "# commit_sheet = sheets[1]\n",
    "\n",
    "# get a dictionary of the tables\n",
    "# data_dic = commit_sheet.get_all_records()\n",
    "\n",
    "# pandas_df = pd.DataFrame(data=data_dic)"
   ],
   "metadata": {
    "collapsed": false,
    "pycharm": {
     "name": "#%%\n"
    }
   }
  },
  {
   "cell_type": "code",
   "execution_count": null,
   "outputs": [],
   "source": [
    "# Alternatively, load the data from a local CSV file.\n",
    "# If you use the code block above, comment this one out.\n",
    "\n",
    "pandas_df = pd.read_csv(\"Issue Analysis.csv\")"
   ],
   "metadata": {
    "collapsed": false,
    "pycharm": {
     "name": "#%%\n"
    }
   }
  },
  {
   "cell_type": "code",
   "execution_count": null,
   "outputs": [],
   "source": [
    "issues_df = pandas_df[pandas_df[\"label\"].str.contains(\"cost-\")]\n",
    "issues_df  # Pandas dataframe with cost-related entries"
   ],
   "metadata": {
    "collapsed": false,
    "pycharm": {
     "name": "#%%\n"
    }
   }
  },
  {
   "cell_type": "code",
   "source": [
    "# Loading the original json for the complete body\n",
    "with open('terraform_issues_updated.json', 'r') as f:\n",
    "  original = json.load(f)\n",
    "\n",
    "# Filter the title and body of the issues/PRs\n",
    "issue_bodies = []\n",
    "for repo in original[\"repositories\"]:\n",
    "    # For each issue in the repository\n",
    "    for issue in repo[\"issues\"]:\n",
    "        for index, row in issues_df.iterrows():\n",
    "            if issue[\"html_url\"] == row[\"html_url\"]:\n",
    "                row[\"body\"] = \"\"\n",
    "                # Merge title, body and comments and save them into the old body field.\n",
    "                if issue[\"title\"] is not None:\n",
    "                    row[\"body\"] += issue[\"title\"]\n",
    "                if issue[\"body\"] is not None:\n",
    "                    row[\"body\"] += \"\\n\" + issue[\"body\"]\n",
    "                for comment in issue['comments_data']:\n",
    "                    row[\"body\"] += \"\\n\" + comment[\"body\"]\n",
    "issues_df"
   ],
   "execution_count": 150,
   "outputs": [
    {
     "data": {
      "text/html": [
       "<div>\n",
       "<style scoped>\n",
       "    .dataframe tbody tr th:only-of-type {\n",
       "        vertical-align: middle;\n",
       "    }\n",
       "\n",
       "    .dataframe tbody tr th {\n",
       "        vertical-align: top;\n",
       "    }\n",
       "\n",
       "    .dataframe thead th {\n",
       "        text-align: right;\n",
       "    }\n",
       "</style>\n",
       "<table border=\"1\" class=\"dataframe\">\n",
       "  <thead>\n",
       "    <tr style=\"text-align: right;\">\n",
       "      <th></th>\n",
       "      <th>html_url</th>\n",
       "      <th>title</th>\n",
       "      <th>body</th>\n",
       "      <th>keyword</th>\n",
       "      <th>label</th>\n",
       "      <th></th>\n",
       "      <th>sentiment</th>\n",
       "      <th>102</th>\n",
       "    </tr>\n",
       "  </thead>\n",
       "  <tbody>\n",
       "    <tr>\n",
       "      <th>15</th>\n",
       "      <td>https://github.com/coreos/tectonic-installer/i...</td>\n",
       "      <td>Terraform Modules</td>\n",
       "      <td>Terraform Modules\\nFEATURE REQUEST\\r\\n\\r\\nFirs...</td>\n",
       "      <td>pay</td>\n",
       "      <td>cost-awareness-billing_mode</td>\n",
       "      <td>They are wondering if it's possible to remove ...</td>\n",
       "      <td>Negative</td>\n",
       "      <td></td>\n",
       "    </tr>\n",
       "    <tr>\n",
       "      <th>19</th>\n",
       "      <td>https://github.com/coreos/tectonic-installer/i...</td>\n",
       "      <td>Add Spotinst integration for worker nodes as a...</td>\n",
       "      <td>Add Spotinst integration for worker nodes as a...</td>\n",
       "      <td>cost</td>\n",
       "      <td>cost-saving-instance</td>\n",
       "      <td></td>\n",
       "      <td>Positive</td>\n",
       "      <td></td>\n",
       "    </tr>\n",
       "    <tr>\n",
       "      <th>21</th>\n",
       "      <td>https://github.com/ministryofjustice/modernisa...</td>\n",
       "      <td>Check billing for regional services configured...</td>\n",
       "      <td>Check billing for regional services configured...</td>\n",
       "      <td>bill</td>\n",
       "      <td>cost-awareness-billing_mode</td>\n",
       "      <td></td>\n",
       "      <td>Positive</td>\n",
       "      <td></td>\n",
       "    </tr>\n",
       "    <tr>\n",
       "      <th>23</th>\n",
       "      <td>https://github.com/ministryofjustice/modernisa...</td>\n",
       "      <td>Add S3 mount for Performance Hub</td>\n",
       "      <td>Add S3 mount for Performance Hub\\n## User Stor...</td>\n",
       "      <td>cost</td>\n",
       "      <td>cost-saving-provider, cost-awareness-provider</td>\n",
       "      <td></td>\n",
       "      <td>Negative</td>\n",
       "      <td></td>\n",
       "    </tr>\n",
       "    <tr>\n",
       "      <th>24</th>\n",
       "      <td>https://github.com/ministryofjustice/modernisa...</td>\n",
       "      <td>create a local sandbox transit gateway</td>\n",
       "      <td>create a local sandbox transit gateway\\nAn iss...</td>\n",
       "      <td>cost</td>\n",
       "      <td>cost-increase-networking-NAT</td>\n",
       "      <td></td>\n",
       "      <td>Negative</td>\n",
       "      <td></td>\n",
       "    </tr>\n",
       "    <tr>\n",
       "      <th>...</th>\n",
       "      <td>...</td>\n",
       "      <td>...</td>\n",
       "      <td>...</td>\n",
       "      <td>...</td>\n",
       "      <td>...</td>\n",
       "      <td>...</td>\n",
       "      <td>...</td>\n",
       "      <td>...</td>\n",
       "    </tr>\n",
       "    <tr>\n",
       "      <th>840</th>\n",
       "      <td>https://github.com/openshift/okd/issues/619</td>\n",
       "      <td>OKD 4.5 in AWS - Cluster did not started after...</td>\n",
       "      <td>OKD 4.5 in AWS - Cluster did not started after...</td>\n",
       "      <td>cost</td>\n",
       "      <td>cost-saving-cluster</td>\n",
       "      <td>kindof</td>\n",
       "      <td>Positive</td>\n",
       "      <td></td>\n",
       "    </tr>\n",
       "    <tr>\n",
       "      <th>855</th>\n",
       "      <td>https://github.com/ExpediaDotCom/haystack/issu...</td>\n",
       "      <td>[Feature Request] Log number of bytes sent and...</td>\n",
       "      <td>[Feature Request] Log number of bytes sent and...</td>\n",
       "      <td>cost</td>\n",
       "      <td>cost-saving-unknown</td>\n",
       "      <td></td>\n",
       "      <td>Positive</td>\n",
       "      <td></td>\n",
       "    </tr>\n",
       "    <tr>\n",
       "      <th>857</th>\n",
       "      <td>https://github.com/Guimove/terraform-aws-basti...</td>\n",
       "      <td>Route53 type CNAME?</td>\n",
       "      <td>Route53 type CNAME?\\nSince rout53 is creating ...</td>\n",
       "      <td>cheap</td>\n",
       "      <td>cost-saving-domain</td>\n",
       "      <td></td>\n",
       "      <td>Positive</td>\n",
       "      <td></td>\n",
       "    </tr>\n",
       "    <tr>\n",
       "      <th>858</th>\n",
       "      <td>https://github.com/Guimove/terraform-aws-basti...</td>\n",
       "      <td>please consider using launch template in place...</td>\n",
       "      <td>please consider using launch template in place...</td>\n",
       "      <td>cost</td>\n",
       "      <td>cost-saving-domain</td>\n",
       "      <td></td>\n",
       "      <td>Positive</td>\n",
       "      <td></td>\n",
       "    </tr>\n",
       "    <tr>\n",
       "      <th>859</th>\n",
       "      <td>https://github.com/Guimove/terraform-aws-basti...</td>\n",
       "      <td>[Feature request] Dynamic-latest AMI support f...</td>\n",
       "      <td>[Feature request] Dynamic-latest AMI support f...</td>\n",
       "      <td>cheap</td>\n",
       "      <td>cost-saving-instance</td>\n",
       "      <td></td>\n",
       "      <td>Positive</td>\n",
       "      <td></td>\n",
       "    </tr>\n",
       "  </tbody>\n",
       "</table>\n",
       "<p>207 rows × 8 columns</p>\n",
       "</div>"
      ]
     },
     "metadata": {},
     "output_type": "display_data"
    }
   ],
   "metadata": {
    "datalore": {
     "type": "CODE",
     "hide_input_from_viewers": false,
     "hide_output_from_viewers": false
    },
    "pycharm": {
     "name": "#%%\n"
    }
   }
  },
  {
   "cell_type": "code",
   "source": [
    "# Drop any extra columns that we have in the Spreadsheets that are not relevant cu sentiment analysis\n",
    "issues_df.drop(labels=[\"keyword\", \"\", \"102\", \"label\"], inplace=True, axis=1)"
   ],
   "execution_count": 151,
   "outputs": [
    {
     "name": "stderr",
     "text": [
      "/opt/python/envs/default/lib/python3.8/site-packages/pandas/core/frame.py:4906: SettingWithCopyWarning: \n",
      "A value is trying to be set on a copy of a slice from a DataFrame\n",
      "\n",
      "See the caveats in the documentation: https://pandas.pydata.org/pandas-docs/stable/user_guide/indexing.html#returning-a-view-versus-a-copy\n",
      "  return super().drop(\n"
     ],
     "output_type": "stream"
    }
   ],
   "metadata": {
    "datalore": {
     "type": "CODE",
     "hide_input_from_viewers": false,
     "hide_output_from_viewers": false
    },
    "pycharm": {
     "name": "#%%\n"
    }
   }
  },
  {
   "cell_type": "code",
   "source": [
    "issues_df"
   ],
   "execution_count": 152,
   "outputs": [
    {
     "data": {
      "text/html": [
       "<div>\n",
       "<style scoped>\n",
       "    .dataframe tbody tr th:only-of-type {\n",
       "        vertical-align: middle;\n",
       "    }\n",
       "\n",
       "    .dataframe tbody tr th {\n",
       "        vertical-align: top;\n",
       "    }\n",
       "\n",
       "    .dataframe thead th {\n",
       "        text-align: right;\n",
       "    }\n",
       "</style>\n",
       "<table border=\"1\" class=\"dataframe\">\n",
       "  <thead>\n",
       "    <tr style=\"text-align: right;\">\n",
       "      <th></th>\n",
       "      <th>html_url</th>\n",
       "      <th>title</th>\n",
       "      <th>body</th>\n",
       "      <th>sentiment</th>\n",
       "    </tr>\n",
       "  </thead>\n",
       "  <tbody>\n",
       "    <tr>\n",
       "      <th>15</th>\n",
       "      <td>https://github.com/coreos/tectonic-installer/i...</td>\n",
       "      <td>Terraform Modules</td>\n",
       "      <td>Terraform Modules\\nFEATURE REQUEST\\r\\n\\r\\nFirs...</td>\n",
       "      <td>Negative</td>\n",
       "    </tr>\n",
       "    <tr>\n",
       "      <th>19</th>\n",
       "      <td>https://github.com/coreos/tectonic-installer/i...</td>\n",
       "      <td>Add Spotinst integration for worker nodes as a...</td>\n",
       "      <td>Add Spotinst integration for worker nodes as a...</td>\n",
       "      <td>Positive</td>\n",
       "    </tr>\n",
       "    <tr>\n",
       "      <th>21</th>\n",
       "      <td>https://github.com/ministryofjustice/modernisa...</td>\n",
       "      <td>Check billing for regional services configured...</td>\n",
       "      <td>Check billing for regional services configured...</td>\n",
       "      <td>Positive</td>\n",
       "    </tr>\n",
       "    <tr>\n",
       "      <th>23</th>\n",
       "      <td>https://github.com/ministryofjustice/modernisa...</td>\n",
       "      <td>Add S3 mount for Performance Hub</td>\n",
       "      <td>Add S3 mount for Performance Hub\\n## User Stor...</td>\n",
       "      <td>Negative</td>\n",
       "    </tr>\n",
       "    <tr>\n",
       "      <th>24</th>\n",
       "      <td>https://github.com/ministryofjustice/modernisa...</td>\n",
       "      <td>create a local sandbox transit gateway</td>\n",
       "      <td>create a local sandbox transit gateway\\nAn iss...</td>\n",
       "      <td>Negative</td>\n",
       "    </tr>\n",
       "    <tr>\n",
       "      <th>...</th>\n",
       "      <td>...</td>\n",
       "      <td>...</td>\n",
       "      <td>...</td>\n",
       "      <td>...</td>\n",
       "    </tr>\n",
       "    <tr>\n",
       "      <th>840</th>\n",
       "      <td>https://github.com/openshift/okd/issues/619</td>\n",
       "      <td>OKD 4.5 in AWS - Cluster did not started after...</td>\n",
       "      <td>OKD 4.5 in AWS - Cluster did not started after...</td>\n",
       "      <td>Positive</td>\n",
       "    </tr>\n",
       "    <tr>\n",
       "      <th>855</th>\n",
       "      <td>https://github.com/ExpediaDotCom/haystack/issu...</td>\n",
       "      <td>[Feature Request] Log number of bytes sent and...</td>\n",
       "      <td>[Feature Request] Log number of bytes sent and...</td>\n",
       "      <td>Positive</td>\n",
       "    </tr>\n",
       "    <tr>\n",
       "      <th>857</th>\n",
       "      <td>https://github.com/Guimove/terraform-aws-basti...</td>\n",
       "      <td>Route53 type CNAME?</td>\n",
       "      <td>Route53 type CNAME?\\nSince rout53 is creating ...</td>\n",
       "      <td>Positive</td>\n",
       "    </tr>\n",
       "    <tr>\n",
       "      <th>858</th>\n",
       "      <td>https://github.com/Guimove/terraform-aws-basti...</td>\n",
       "      <td>please consider using launch template in place...</td>\n",
       "      <td>please consider using launch template in place...</td>\n",
       "      <td>Positive</td>\n",
       "    </tr>\n",
       "    <tr>\n",
       "      <th>859</th>\n",
       "      <td>https://github.com/Guimove/terraform-aws-basti...</td>\n",
       "      <td>[Feature request] Dynamic-latest AMI support f...</td>\n",
       "      <td>[Feature request] Dynamic-latest AMI support f...</td>\n",
       "      <td>Positive</td>\n",
       "    </tr>\n",
       "  </tbody>\n",
       "</table>\n",
       "<p>207 rows × 4 columns</p>\n",
       "</div>"
      ]
     },
     "metadata": {},
     "output_type": "display_data"
    }
   ],
   "metadata": {
    "datalore": {
     "type": "CODE",
     "hide_input_from_viewers": false,
     "hide_output_from_viewers": false
    },
    "pycharm": {
     "name": "#%%\n"
    }
   }
  },
  {
   "cell_type": "markdown",
   "source": [
    "## Clean and prepare the dataframe for sentiment analysis"
   ],
   "attachments": {},
   "metadata": {
    "datalore": {
     "type": "MD",
     "hide_input_from_viewers": false,
     "hide_output_from_viewers": false
    },
    "pycharm": {
     "name": "#%% md\n"
    }
   }
  },
  {
   "cell_type": "code",
   "source": [
    "# Remove any markdown or HTML embeddings\n",
    "for index, row in issues_df.iterrows():\n",
    "    row[\"body\"] = markdown(row[\"body\"])\n",
    "    row[\"body\"] = ''.join(BeautifulSoup(row[\"body\"]).findAll(text=True))"
   ],
   "execution_count": 153,
   "outputs": [],
   "metadata": {
    "datalore": {
     "type": "CODE",
     "hide_input_from_viewers": false,
     "hide_output_from_viewers": false
    },
    "pycharm": {
     "name": "#%%\n"
    }
   }
  },
  {
   "cell_type": "code",
   "source": [
    "# Add new fields for the predicted sentiment\n",
    "issues_df[\"Predicted SE\"] = \"\"\n",
    "issues_df"
   ],
   "execution_count": 154,
   "outputs": [
    {
     "name": "stderr",
     "text": [
      "<ipython-input-154-d2e2d51889d8>:2: SettingWithCopyWarning: \n",
      "A value is trying to be set on a copy of a slice from a DataFrame.\n",
      "Try using .loc[row_indexer,col_indexer] = value instead\n",
      "\n",
      "See the caveats in the documentation: https://pandas.pydata.org/pandas-docs/stable/user_guide/indexing.html#returning-a-view-versus-a-copy\n",
      "  issues_df[\"Predicted SE\"] = \"\"\n"
     ],
     "output_type": "stream"
    },
    {
     "data": {
      "text/html": [
       "<div>\n",
       "<style scoped>\n",
       "    .dataframe tbody tr th:only-of-type {\n",
       "        vertical-align: middle;\n",
       "    }\n",
       "\n",
       "    .dataframe tbody tr th {\n",
       "        vertical-align: top;\n",
       "    }\n",
       "\n",
       "    .dataframe thead th {\n",
       "        text-align: right;\n",
       "    }\n",
       "</style>\n",
       "<table border=\"1\" class=\"dataframe\">\n",
       "  <thead>\n",
       "    <tr style=\"text-align: right;\">\n",
       "      <th></th>\n",
       "      <th>html_url</th>\n",
       "      <th>title</th>\n",
       "      <th>body</th>\n",
       "      <th>sentiment</th>\n",
       "      <th>Predicted SE</th>\n",
       "    </tr>\n",
       "  </thead>\n",
       "  <tbody>\n",
       "    <tr>\n",
       "      <th>15</th>\n",
       "      <td>https://github.com/coreos/tectonic-installer/i...</td>\n",
       "      <td>Terraform Modules</td>\n",
       "      <td>Terraform Modules\\nFEATURE REQUEST\\nFirstly th...</td>\n",
       "      <td>Negative</td>\n",
       "      <td></td>\n",
       "    </tr>\n",
       "    <tr>\n",
       "      <th>19</th>\n",
       "      <td>https://github.com/coreos/tectonic-installer/i...</td>\n",
       "      <td>Add Spotinst integration for worker nodes as a...</td>\n",
       "      <td>Add Spotinst integration for worker nodes as a...</td>\n",
       "      <td>Positive</td>\n",
       "      <td></td>\n",
       "    </tr>\n",
       "    <tr>\n",
       "      <th>21</th>\n",
       "      <td>https://github.com/ministryofjustice/modernisa...</td>\n",
       "      <td>Check billing for regional services configured...</td>\n",
       "      <td>Check billing for regional services configured...</td>\n",
       "      <td>Positive</td>\n",
       "      <td></td>\n",
       "    </tr>\n",
       "    <tr>\n",
       "      <th>23</th>\n",
       "      <td>https://github.com/ministryofjustice/modernisa...</td>\n",
       "      <td>Add S3 mount for Performance Hub</td>\n",
       "      <td>Add S3 mount for Performance Hub\\nUser Story\\n...</td>\n",
       "      <td>Negative</td>\n",
       "      <td></td>\n",
       "    </tr>\n",
       "    <tr>\n",
       "      <th>24</th>\n",
       "      <td>https://github.com/ministryofjustice/modernisa...</td>\n",
       "      <td>create a local sandbox transit gateway</td>\n",
       "      <td>create a local sandbox transit gateway\\nAn iss...</td>\n",
       "      <td>Negative</td>\n",
       "      <td></td>\n",
       "    </tr>\n",
       "    <tr>\n",
       "      <th>...</th>\n",
       "      <td>...</td>\n",
       "      <td>...</td>\n",
       "      <td>...</td>\n",
       "      <td>...</td>\n",
       "      <td>...</td>\n",
       "    </tr>\n",
       "    <tr>\n",
       "      <th>840</th>\n",
       "      <td>https://github.com/openshift/okd/issues/619</td>\n",
       "      <td>OKD 4.5 in AWS - Cluster did not started after...</td>\n",
       "      <td>OKD 4.5 in AWS - Cluster did not started after...</td>\n",
       "      <td>Positive</td>\n",
       "      <td></td>\n",
       "    </tr>\n",
       "    <tr>\n",
       "      <th>855</th>\n",
       "      <td>https://github.com/ExpediaDotCom/haystack/issu...</td>\n",
       "      <td>[Feature Request] Log number of bytes sent and...</td>\n",
       "      <td>[Feature Request] Log number of bytes sent and...</td>\n",
       "      <td>Positive</td>\n",
       "      <td></td>\n",
       "    </tr>\n",
       "    <tr>\n",
       "      <th>857</th>\n",
       "      <td>https://github.com/Guimove/terraform-aws-basti...</td>\n",
       "      <td>Route53 type CNAME?</td>\n",
       "      <td>Route53 type CNAME?\\nSince rout53 is creating ...</td>\n",
       "      <td>Positive</td>\n",
       "      <td></td>\n",
       "    </tr>\n",
       "    <tr>\n",
       "      <th>858</th>\n",
       "      <td>https://github.com/Guimove/terraform-aws-basti...</td>\n",
       "      <td>please consider using launch template in place...</td>\n",
       "      <td>please consider using launch template in place...</td>\n",
       "      <td>Positive</td>\n",
       "      <td></td>\n",
       "    </tr>\n",
       "    <tr>\n",
       "      <th>859</th>\n",
       "      <td>https://github.com/Guimove/terraform-aws-basti...</td>\n",
       "      <td>[Feature request] Dynamic-latest AMI support f...</td>\n",
       "      <td>[Feature request] Dynamic-latest AMI support f...</td>\n",
       "      <td>Positive</td>\n",
       "      <td></td>\n",
       "    </tr>\n",
       "  </tbody>\n",
       "</table>\n",
       "<p>207 rows × 5 columns</p>\n",
       "</div>"
      ]
     },
     "metadata": {},
     "output_type": "display_data"
    }
   ],
   "metadata": {
    "datalore": {
     "type": "CODE",
     "hide_input_from_viewers": false,
     "hide_output_from_viewers": false
    },
    "pycharm": {
     "name": "#%%\n"
    }
   }
  },
  {
   "cell_type": "markdown",
   "source": [
    "## Apply sentiment analysis using TextBlob and vizualize the results"
   ],
   "attachments": {},
   "metadata": {
    "datalore": {
     "type": "MD",
     "hide_input_from_viewers": false,
     "hide_output_from_viewers": false
    },
    "pycharm": {
     "name": "#%% md\n"
    }
   }
  },
  {
   "cell_type": "code",
   "source": [
    "# Loop through the dataframe and apply sentiment analysis on each body of text.\n",
    "for index, row in issues_df.iterrows():\n",
    "    polarity = TextBlob(row[\"body\"]).sentiment.polarity\n",
    "\n",
    "    # I use the default thresholds given in the TextBlob documentation\n",
    "    if polarity < 0:\n",
    "        sentiment =  \"Negative\"\n",
    "    elif polarity == 0:\n",
    "        sentiment = \"Neutral\"\n",
    "    else:\n",
    "        sentiment = \"Positive\"\n",
    "\n",
    "    row[\"Predicted SE\"] = sentiment"
   ],
   "execution_count": 155,
   "outputs": [],
   "metadata": {
    "datalore": {
     "type": "CODE",
     "hide_input_from_viewers": false,
     "hide_output_from_viewers": false
    },
    "pycharm": {
     "name": "#%%\n"
    }
   }
  },
  {
   "cell_type": "code",
   "source": [
    "# Print the df\n",
    "issues_df"
   ],
   "execution_count": 156,
   "outputs": [
    {
     "data": {
      "text/html": [
       "<div>\n",
       "<style scoped>\n",
       "    .dataframe tbody tr th:only-of-type {\n",
       "        vertical-align: middle;\n",
       "    }\n",
       "\n",
       "    .dataframe tbody tr th {\n",
       "        vertical-align: top;\n",
       "    }\n",
       "\n",
       "    .dataframe thead th {\n",
       "        text-align: right;\n",
       "    }\n",
       "</style>\n",
       "<table border=\"1\" class=\"dataframe\">\n",
       "  <thead>\n",
       "    <tr style=\"text-align: right;\">\n",
       "      <th></th>\n",
       "      <th>html_url</th>\n",
       "      <th>title</th>\n",
       "      <th>body</th>\n",
       "      <th>sentiment</th>\n",
       "      <th>Predicted SE</th>\n",
       "    </tr>\n",
       "  </thead>\n",
       "  <tbody>\n",
       "    <tr>\n",
       "      <th>15</th>\n",
       "      <td>https://github.com/coreos/tectonic-installer/i...</td>\n",
       "      <td>Terraform Modules</td>\n",
       "      <td>Terraform Modules\\nFEATURE REQUEST\\nFirstly th...</td>\n",
       "      <td>Negative</td>\n",
       "      <td>Positive</td>\n",
       "    </tr>\n",
       "    <tr>\n",
       "      <th>19</th>\n",
       "      <td>https://github.com/coreos/tectonic-installer/i...</td>\n",
       "      <td>Add Spotinst integration for worker nodes as a...</td>\n",
       "      <td>Add Spotinst integration for worker nodes as a...</td>\n",
       "      <td>Positive</td>\n",
       "      <td>Positive</td>\n",
       "    </tr>\n",
       "    <tr>\n",
       "      <th>21</th>\n",
       "      <td>https://github.com/ministryofjustice/modernisa...</td>\n",
       "      <td>Check billing for regional services configured...</td>\n",
       "      <td>Check billing for regional services configured...</td>\n",
       "      <td>Positive</td>\n",
       "      <td>Negative</td>\n",
       "    </tr>\n",
       "    <tr>\n",
       "      <th>23</th>\n",
       "      <td>https://github.com/ministryofjustice/modernisa...</td>\n",
       "      <td>Add S3 mount for Performance Hub</td>\n",
       "      <td>Add S3 mount for Performance Hub\\nUser Story\\n...</td>\n",
       "      <td>Negative</td>\n",
       "      <td>Positive</td>\n",
       "    </tr>\n",
       "    <tr>\n",
       "      <th>24</th>\n",
       "      <td>https://github.com/ministryofjustice/modernisa...</td>\n",
       "      <td>create a local sandbox transit gateway</td>\n",
       "      <td>create a local sandbox transit gateway\\nAn iss...</td>\n",
       "      <td>Negative</td>\n",
       "      <td>Negative</td>\n",
       "    </tr>\n",
       "    <tr>\n",
       "      <th>...</th>\n",
       "      <td>...</td>\n",
       "      <td>...</td>\n",
       "      <td>...</td>\n",
       "      <td>...</td>\n",
       "      <td>...</td>\n",
       "    </tr>\n",
       "    <tr>\n",
       "      <th>840</th>\n",
       "      <td>https://github.com/openshift/okd/issues/619</td>\n",
       "      <td>OKD 4.5 in AWS - Cluster did not started after...</td>\n",
       "      <td>OKD 4.5 in AWS - Cluster did not started after...</td>\n",
       "      <td>Positive</td>\n",
       "      <td>Negative</td>\n",
       "    </tr>\n",
       "    <tr>\n",
       "      <th>855</th>\n",
       "      <td>https://github.com/ExpediaDotCom/haystack/issu...</td>\n",
       "      <td>[Feature Request] Log number of bytes sent and...</td>\n",
       "      <td>[Feature Request] Log number of bytes sent and...</td>\n",
       "      <td>Positive</td>\n",
       "      <td>Positive</td>\n",
       "    </tr>\n",
       "    <tr>\n",
       "      <th>857</th>\n",
       "      <td>https://github.com/Guimove/terraform-aws-basti...</td>\n",
       "      <td>Route53 type CNAME?</td>\n",
       "      <td>Route53 type CNAME?\\nSince rout53 is creating ...</td>\n",
       "      <td>Positive</td>\n",
       "      <td>Positive</td>\n",
       "    </tr>\n",
       "    <tr>\n",
       "      <th>858</th>\n",
       "      <td>https://github.com/Guimove/terraform-aws-basti...</td>\n",
       "      <td>please consider using launch template in place...</td>\n",
       "      <td>please consider using launch template in place...</td>\n",
       "      <td>Positive</td>\n",
       "      <td>Negative</td>\n",
       "    </tr>\n",
       "    <tr>\n",
       "      <th>859</th>\n",
       "      <td>https://github.com/Guimove/terraform-aws-basti...</td>\n",
       "      <td>[Feature request] Dynamic-latest AMI support f...</td>\n",
       "      <td>[Feature request] Dynamic-latest AMI support f...</td>\n",
       "      <td>Positive</td>\n",
       "      <td>Positive</td>\n",
       "    </tr>\n",
       "  </tbody>\n",
       "</table>\n",
       "<p>207 rows × 5 columns</p>\n",
       "</div>"
      ]
     },
     "metadata": {},
     "output_type": "display_data"
    }
   ],
   "metadata": {
    "datalore": {
     "type": "CODE",
     "hide_input_from_viewers": false,
     "hide_output_from_viewers": false
    },
    "pycharm": {
     "name": "#%%\n"
    }
   }
  },
  {
   "cell_type": "code",
   "source": [
    "# Filter only the entries that were used for sentiment analysis. It should be 100.\n",
    "issues_df[issues_df[\"sentiment\"] != \"\"]"
   ],
   "execution_count": 157,
   "outputs": [
    {
     "data": {
      "text/html": [
       "<div>\n",
       "<style scoped>\n",
       "    .dataframe tbody tr th:only-of-type {\n",
       "        vertical-align: middle;\n",
       "    }\n",
       "\n",
       "    .dataframe tbody tr th {\n",
       "        vertical-align: top;\n",
       "    }\n",
       "\n",
       "    .dataframe thead th {\n",
       "        text-align: right;\n",
       "    }\n",
       "</style>\n",
       "<table border=\"1\" class=\"dataframe\">\n",
       "  <thead>\n",
       "    <tr style=\"text-align: right;\">\n",
       "      <th></th>\n",
       "      <th>html_url</th>\n",
       "      <th>title</th>\n",
       "      <th>body</th>\n",
       "      <th>sentiment</th>\n",
       "      <th>Predicted SE</th>\n",
       "    </tr>\n",
       "  </thead>\n",
       "  <tbody>\n",
       "    <tr>\n",
       "      <th>15</th>\n",
       "      <td>https://github.com/coreos/tectonic-installer/i...</td>\n",
       "      <td>Terraform Modules</td>\n",
       "      <td>Terraform Modules\\nFEATURE REQUEST\\nFirstly th...</td>\n",
       "      <td>Negative</td>\n",
       "      <td>Positive</td>\n",
       "    </tr>\n",
       "    <tr>\n",
       "      <th>19</th>\n",
       "      <td>https://github.com/coreos/tectonic-installer/i...</td>\n",
       "      <td>Add Spotinst integration for worker nodes as a...</td>\n",
       "      <td>Add Spotinst integration for worker nodes as a...</td>\n",
       "      <td>Positive</td>\n",
       "      <td>Positive</td>\n",
       "    </tr>\n",
       "    <tr>\n",
       "      <th>21</th>\n",
       "      <td>https://github.com/ministryofjustice/modernisa...</td>\n",
       "      <td>Check billing for regional services configured...</td>\n",
       "      <td>Check billing for regional services configured...</td>\n",
       "      <td>Positive</td>\n",
       "      <td>Negative</td>\n",
       "    </tr>\n",
       "    <tr>\n",
       "      <th>23</th>\n",
       "      <td>https://github.com/ministryofjustice/modernisa...</td>\n",
       "      <td>Add S3 mount for Performance Hub</td>\n",
       "      <td>Add S3 mount for Performance Hub\\nUser Story\\n...</td>\n",
       "      <td>Negative</td>\n",
       "      <td>Positive</td>\n",
       "    </tr>\n",
       "    <tr>\n",
       "      <th>24</th>\n",
       "      <td>https://github.com/ministryofjustice/modernisa...</td>\n",
       "      <td>create a local sandbox transit gateway</td>\n",
       "      <td>create a local sandbox transit gateway\\nAn iss...</td>\n",
       "      <td>Negative</td>\n",
       "      <td>Negative</td>\n",
       "    </tr>\n",
       "    <tr>\n",
       "      <th>...</th>\n",
       "      <td>...</td>\n",
       "      <td>...</td>\n",
       "      <td>...</td>\n",
       "      <td>...</td>\n",
       "      <td>...</td>\n",
       "    </tr>\n",
       "    <tr>\n",
       "      <th>840</th>\n",
       "      <td>https://github.com/openshift/okd/issues/619</td>\n",
       "      <td>OKD 4.5 in AWS - Cluster did not started after...</td>\n",
       "      <td>OKD 4.5 in AWS - Cluster did not started after...</td>\n",
       "      <td>Positive</td>\n",
       "      <td>Negative</td>\n",
       "    </tr>\n",
       "    <tr>\n",
       "      <th>855</th>\n",
       "      <td>https://github.com/ExpediaDotCom/haystack/issu...</td>\n",
       "      <td>[Feature Request] Log number of bytes sent and...</td>\n",
       "      <td>[Feature Request] Log number of bytes sent and...</td>\n",
       "      <td>Positive</td>\n",
       "      <td>Positive</td>\n",
       "    </tr>\n",
       "    <tr>\n",
       "      <th>857</th>\n",
       "      <td>https://github.com/Guimove/terraform-aws-basti...</td>\n",
       "      <td>Route53 type CNAME?</td>\n",
       "      <td>Route53 type CNAME?\\nSince rout53 is creating ...</td>\n",
       "      <td>Positive</td>\n",
       "      <td>Positive</td>\n",
       "    </tr>\n",
       "    <tr>\n",
       "      <th>858</th>\n",
       "      <td>https://github.com/Guimove/terraform-aws-basti...</td>\n",
       "      <td>please consider using launch template in place...</td>\n",
       "      <td>please consider using launch template in place...</td>\n",
       "      <td>Positive</td>\n",
       "      <td>Negative</td>\n",
       "    </tr>\n",
       "    <tr>\n",
       "      <th>859</th>\n",
       "      <td>https://github.com/Guimove/terraform-aws-basti...</td>\n",
       "      <td>[Feature request] Dynamic-latest AMI support f...</td>\n",
       "      <td>[Feature request] Dynamic-latest AMI support f...</td>\n",
       "      <td>Positive</td>\n",
       "      <td>Positive</td>\n",
       "    </tr>\n",
       "  </tbody>\n",
       "</table>\n",
       "<p>100 rows × 5 columns</p>\n",
       "</div>"
      ]
     },
     "metadata": {},
     "output_type": "display_data"
    }
   ],
   "metadata": {
    "datalore": {
     "type": "CODE",
     "hide_input_from_viewers": false,
     "hide_output_from_viewers": false
    },
    "pycharm": {
     "name": "#%%\n"
    }
   }
  },
  {
   "cell_type": "code",
   "source": [
    "# Build 2 arrays of the expected and predicted sentiment for confusion matrix.\n",
    "expected = []\n",
    "predicted = []\n",
    "for index, row in issues_df.iterrows():\n",
    "    if row[\"sentiment\"]:\n",
    "        expected.append(row[\"sentiment\"])\n",
    "        predicted.append(row[\"Predicted SE\"])"
   ],
   "execution_count": 158,
   "outputs": [],
   "metadata": {
    "datalore": {
     "type": "CODE",
     "hide_input_from_viewers": false,
     "hide_output_from_viewers": false
    },
    "pycharm": {
     "name": "#%%\n"
    }
   }
  },
  {
   "cell_type": "code",
   "source": [
    "# Print the confusion matrix\n",
    "results = confusion_matrix(expected, predicted, labels=[\"Negative\", \"Neutral\", \"Positive\"])\n",
    "print(results)"
   ],
   "execution_count": 159,
   "outputs": [
    {
     "name": "stdout",
     "text": [
      "[[ 6  2 23]\n",
      " [ 4  2 17]\n",
      " [10  3 33]]\n"
     ],
     "output_type": "stream"
    }
   ],
   "metadata": {
    "datalore": {
     "type": "CODE",
     "hide_input_from_viewers": false,
     "hide_output_from_viewers": false
    },
    "pycharm": {
     "name": "#%%\n"
    }
   }
  },
  {
   "cell_type": "code",
   "source": [
    "# Print accuracy.\n",
    "from sklearn.metrics import accuracy_score\n",
    "print(accuracy_score(expected, predicted))"
   ],
   "execution_count": 160,
   "outputs": [
    {
     "name": "stdout",
     "text": [
      "0.41\n"
     ],
     "output_type": "stream"
    }
   ],
   "metadata": {
    "datalore": {
     "type": "CODE",
     "hide_input_from_viewers": false,
     "hide_output_from_viewers": false
    },
    "pycharm": {
     "name": "#%%\n"
    }
   }
  },
  {
   "cell_type": "code",
   "source": [
    "# Vizualize the confusion matrix and accuracy using seaborn. Saves the graph at the end as a PNG.\n",
    "\n",
    "import seaborn as sns\n",
    "\n",
    "sns.set(rc = {'figure.figsize':(15,8)})\n",
    "\n",
    "ax = sns.heatmap(results, annot=True, cmap='Blues', cbar = False, annot_kws={\"size\": 20})\n",
    "\n",
    "ax.set_title(f'Accuracy score for TextBlob: {int(accuracy_score(expected, predicted) * 100)}%\\n\\n', fontsize=20, weight='bold')\n",
    "ax.set_xlabel('\\nPredicted Values', fontsize = 20)\n",
    "ax.set_ylabel('Actual Values ', fontsize = 20)\n",
    "\n",
    "## Ticket labels - List must be in alphabetical order\n",
    "ax.xaxis.set_ticklabels(['Negative','Neutral', 'Positive'], fontsize = 20)\n",
    "ax.yaxis.set_ticklabels(['Negative','Neutral', 'Positive'], fontsize = 20)\n",
    "figure = ax.get_figure()\n",
    "\n",
    "figure.savefig('TextBlob-matrix.png', bbox_inches='tight')"
   ],
   "execution_count": 161,
   "outputs": [
    {
     "data": {
      "image/png": "[encoded data removed]"
     },
     "metadata": {
      "image/png": {}
     },
     "output_type": "display_data"
    }
   ],
   "metadata": {
    "datalore": {
     "type": "CODE",
     "hide_input_from_viewers": false,
     "hide_output_from_viewers": false
    },
    "pycharm": {
     "name": "#%%\n"
    }
   }
  },
  {
   "cell_type": "code",
   "source": [],
   "execution_count": null,
   "outputs": [],
   "metadata": {
    "datalore": {
     "type": "CODE",
     "hide_input_from_viewers": false,
     "hide_output_from_viewers": false
    },
    "pycharm": {
     "name": "#%%\n"
    }
   }
  },
  {
   "cell_type": "markdown",
   "source": [
    "# Vader\n",
    "\n",
    "### Run from this code block below for the Vader experiments."
   ],
   "attachments": {},
   "metadata": {
    "datalore": {
     "type": "MD",
     "hide_input_from_viewers": false,
     "hide_output_from_viewers": false,
     "sheet_delimiter": true
    },
    "pycharm": {
     "name": "#%% md\n"
    }
   }
  },
  {
   "cell_type": "code",
   "source": [
    "import pygsheets\n",
    "import pandas as pd\n",
    "import json\n",
    "from markdown import markdown\n",
    "from bs4 import BeautifulSoup\n",
    "from vaderSentiment.vaderSentiment import SentimentIntensityAnalyzer\n",
    "from sklearn.metrics import confusion_matrix\n",
    "from sklearn.metrics import accuracy_score"
   ],
   "execution_count": 162,
   "outputs": [],
   "metadata": {
    "datalore": {
     "type": "CODE",
     "hide_input_from_viewers": false,
     "hide_output_from_viewers": false
    },
    "pycharm": {
     "name": "#%%\n"
    }
   }
  },
  {
   "cell_type": "markdown",
   "source": [
    "## Load the labeled data from the Google Drive into a Pandas dataframe"
   ],
   "attachments": {},
   "metadata": {
    "datalore": {
     "type": "MD",
     "hide_input_from_viewers": false,
     "hide_output_from_viewers": false
    },
    "pycharm": {
     "name": "#%% md\n"
    }
   }
  },
  {
   "cell_type": "code",
   "source": [
    "# access the sheets and get the commit sheet\n",
    "\n",
    "# Either change the service_file with your personal file, or use the local version of the CSV document.\n",
    "gc = pygsheets.authorize(service_file='commitevalutaion-6a3c4370bf89.json')\n",
    "sheets = gc.open_by_url(\"https://docs.google.com/spreadsheets/d/1OYsymuoRJGAXTHQImI0ycbN2NQhsxSkqlj-W-PEHRvw/edit#gid=1782607577\")\n",
    "commit_sheet = sheets[1]\n",
    "\n",
    "# get a dictionary of the tables\n",
    "data_dic = commit_sheet.get_all_records()\n",
    "\n",
    "pandas_df = pd.DataFrame(data=data_dic)\n",
    "issues_df = pandas_df[pandas_df[\"label\"].str.contains(\"cost-\")]\n",
    "issues_df"
   ],
   "execution_count": 163,
   "outputs": [
    {
     "data": {
      "text/html": [
       "<div>\n",
       "<style scoped>\n",
       "    .dataframe tbody tr th:only-of-type {\n",
       "        vertical-align: middle;\n",
       "    }\n",
       "\n",
       "    .dataframe tbody tr th {\n",
       "        vertical-align: top;\n",
       "    }\n",
       "\n",
       "    .dataframe thead th {\n",
       "        text-align: right;\n",
       "    }\n",
       "</style>\n",
       "<table border=\"1\" class=\"dataframe\">\n",
       "  <thead>\n",
       "    <tr style=\"text-align: right;\">\n",
       "      <th></th>\n",
       "      <th>html_url</th>\n",
       "      <th>title</th>\n",
       "      <th>body</th>\n",
       "      <th>keyword</th>\n",
       "      <th>label</th>\n",
       "      <th></th>\n",
       "      <th>sentiment</th>\n",
       "      <th>102</th>\n",
       "    </tr>\n",
       "  </thead>\n",
       "  <tbody>\n",
       "    <tr>\n",
       "      <th>15</th>\n",
       "      <td>https://github.com/coreos/tectonic-installer/i...</td>\n",
       "      <td>Terraform Modules</td>\n",
       "      <td>identity, prometheus, heapster, and other feat...</td>\n",
       "      <td>pay</td>\n",
       "      <td>cost-awareness-billing_mode</td>\n",
       "      <td>They are wondering if it's possible to remove ...</td>\n",
       "      <td>Negative</td>\n",
       "      <td></td>\n",
       "    </tr>\n",
       "    <tr>\n",
       "      <th>19</th>\n",
       "      <td>https://github.com/coreos/tectonic-installer/i...</td>\n",
       "      <td>Add Spotinst integration for worker nodes as a...</td>\n",
       "      <td>s Spot Instance market](https://aws.amazon.com...</td>\n",
       "      <td>cost</td>\n",
       "      <td>cost-saving-instance</td>\n",
       "      <td></td>\n",
       "      <td>Positive</td>\n",
       "      <td></td>\n",
       "    </tr>\n",
       "    <tr>\n",
       "      <th>21</th>\n",
       "      <td>https://github.com/ministryofjustice/modernisa...</td>\n",
       "      <td>Check billing for regional services configured...</td>\n",
       "      <td>Check billing for regional services configured...</td>\n",
       "      <td>bill</td>\n",
       "      <td>cost-awareness-billing_mode</td>\n",
       "      <td></td>\n",
       "      <td>Positive</td>\n",
       "      <td></td>\n",
       "    </tr>\n",
       "    <tr>\n",
       "      <th>23</th>\n",
       "      <td>https://github.com/ministryofjustice/modernisa...</td>\n",
       "      <td>Add S3 mount for Performance Hub</td>\n",
       "      <td>or one can be created specifically for managin...</td>\n",
       "      <td>cost</td>\n",
       "      <td>cost-saving-provider, cost-awareness-provider</td>\n",
       "      <td></td>\n",
       "      <td>Negative</td>\n",
       "      <td></td>\n",
       "    </tr>\n",
       "    <tr>\n",
       "      <th>24</th>\n",
       "      <td>https://github.com/ministryofjustice/modernisa...</td>\n",
       "      <td>create a local sandbox transit gateway</td>\n",
       "      <td>the default route on Mod Plaformform is used f...</td>\n",
       "      <td>cost</td>\n",
       "      <td>cost-increase-networking-NAT</td>\n",
       "      <td></td>\n",
       "      <td>Negative</td>\n",
       "      <td></td>\n",
       "    </tr>\n",
       "    <tr>\n",
       "      <th>...</th>\n",
       "      <td>...</td>\n",
       "      <td>...</td>\n",
       "      <td>...</td>\n",
       "      <td>...</td>\n",
       "      <td>...</td>\n",
       "      <td>...</td>\n",
       "      <td>...</td>\n",
       "      <td>...</td>\n",
       "    </tr>\n",
       "    <tr>\n",
       "      <th>840</th>\n",
       "      <td>https://github.com/openshift/okd/issues/619</td>\n",
       "      <td>OKD 4.5 in AWS - Cluster did not started after...</td>\n",
       "      <td>4.5.0-0.okd-2020-10-15-235428 To save the cost...</td>\n",
       "      <td>cost</td>\n",
       "      <td>cost-saving-cluster</td>\n",
       "      <td>kindof</td>\n",
       "      <td>Positive</td>\n",
       "      <td></td>\n",
       "    </tr>\n",
       "    <tr>\n",
       "      <th>855</th>\n",
       "      <td>https://github.com/ExpediaDotCom/haystack/issu...</td>\n",
       "      <td>[Feature Request] Log number of bytes sent and...</td>\n",
       "      <td>more we increase the performance of our servic...</td>\n",
       "      <td>cost</td>\n",
       "      <td>cost-saving-unknown</td>\n",
       "      <td></td>\n",
       "      <td>Positive</td>\n",
       "      <td></td>\n",
       "    </tr>\n",
       "    <tr>\n",
       "      <th>857</th>\n",
       "      <td>https://github.com/Guimove/terraform-aws-basti...</td>\n",
       "      <td>Route53 type CNAME?</td>\n",
       "      <td>bastion elb. Maybe type 'A' with alias should ...</td>\n",
       "      <td>cheap</td>\n",
       "      <td>cost-saving-domain</td>\n",
       "      <td></td>\n",
       "      <td>Positive</td>\n",
       "      <td></td>\n",
       "    </tr>\n",
       "    <tr>\n",
       "      <th>858</th>\n",
       "      <td>https://github.com/Guimove/terraform-aws-basti...</td>\n",
       "      <td>please consider using launch template in place...</td>\n",
       "      <td>either with an autoscaling group behind nlb or...</td>\n",
       "      <td>cost</td>\n",
       "      <td>cost-saving-domain</td>\n",
       "      <td></td>\n",
       "      <td>Positive</td>\n",
       "      <td></td>\n",
       "    </tr>\n",
       "    <tr>\n",
       "      <th>859</th>\n",
       "      <td>https://github.com/Guimove/terraform-aws-basti...</td>\n",
       "      <td>[Feature request] Dynamic-latest AMI support f...</td>\n",
       "      <td>would be really great if the new `t4g` instanc...</td>\n",
       "      <td>cheap</td>\n",
       "      <td>cost-saving-instance</td>\n",
       "      <td></td>\n",
       "      <td>Positive</td>\n",
       "      <td></td>\n",
       "    </tr>\n",
       "  </tbody>\n",
       "</table>\n",
       "<p>207 rows × 8 columns</p>\n",
       "</div>"
      ]
     },
     "metadata": {},
     "output_type": "display_data"
    }
   ],
   "metadata": {
    "datalore": {
     "type": "CODE",
     "hide_input_from_viewers": false,
     "hide_output_from_viewers": false
    },
    "pycharm": {
     "name": "#%%\n"
    }
   }
  },
  {
   "cell_type": "code",
   "source": [
    "# Loading the original json for the complete body\n",
    "with open('terraform_issues_updated.json', 'r') as f:\n",
    "  original = json.load(f)\n",
    "\n",
    "# Filter the title and body of the issues/PRs\n",
    "issue_bodies = []\n",
    "for repo in original[\"repositories\"]:\n",
    "    for issue in repo[\"issues\"]:\n",
    "        for index, row in issues_df.iterrows():\n",
    "            if issue[\"html_url\"] == row[\"html_url\"]:\n",
    "                row[\"body\"] = \"\"\n",
    "                if issue[\"title\"] is not None:\n",
    "                    row[\"body\"] += issue[\"title\"]\n",
    "                if issue[\"body\"] is not None:\n",
    "                    row[\"body\"] += \"\\n\" + issue[\"body\"]\n",
    "                for comment in issue['comments_data']:\n",
    "                    row[\"body\"] += \"\\n\" + comment[\"body\"]\n",
    "issues_df"
   ],
   "execution_count": 164,
   "outputs": [
    {
     "data": {
      "text/html": [
       "<div>\n",
       "<style scoped>\n",
       "    .dataframe tbody tr th:only-of-type {\n",
       "        vertical-align: middle;\n",
       "    }\n",
       "\n",
       "    .dataframe tbody tr th {\n",
       "        vertical-align: top;\n",
       "    }\n",
       "\n",
       "    .dataframe thead th {\n",
       "        text-align: right;\n",
       "    }\n",
       "</style>\n",
       "<table border=\"1\" class=\"dataframe\">\n",
       "  <thead>\n",
       "    <tr style=\"text-align: right;\">\n",
       "      <th></th>\n",
       "      <th>html_url</th>\n",
       "      <th>title</th>\n",
       "      <th>body</th>\n",
       "      <th>keyword</th>\n",
       "      <th>label</th>\n",
       "      <th></th>\n",
       "      <th>sentiment</th>\n",
       "      <th>102</th>\n",
       "    </tr>\n",
       "  </thead>\n",
       "  <tbody>\n",
       "    <tr>\n",
       "      <th>15</th>\n",
       "      <td>https://github.com/coreos/tectonic-installer/i...</td>\n",
       "      <td>Terraform Modules</td>\n",
       "      <td>Terraform Modules\\nFEATURE REQUEST\\r\\n\\r\\nFirs...</td>\n",
       "      <td>pay</td>\n",
       "      <td>cost-awareness-billing_mode</td>\n",
       "      <td>They are wondering if it's possible to remove ...</td>\n",
       "      <td>Negative</td>\n",
       "      <td></td>\n",
       "    </tr>\n",
       "    <tr>\n",
       "      <th>19</th>\n",
       "      <td>https://github.com/coreos/tectonic-installer/i...</td>\n",
       "      <td>Add Spotinst integration for worker nodes as a...</td>\n",
       "      <td>Add Spotinst integration for worker nodes as a...</td>\n",
       "      <td>cost</td>\n",
       "      <td>cost-saving-instance</td>\n",
       "      <td></td>\n",
       "      <td>Positive</td>\n",
       "      <td></td>\n",
       "    </tr>\n",
       "    <tr>\n",
       "      <th>21</th>\n",
       "      <td>https://github.com/ministryofjustice/modernisa...</td>\n",
       "      <td>Check billing for regional services configured...</td>\n",
       "      <td>Check billing for regional services configured...</td>\n",
       "      <td>bill</td>\n",
       "      <td>cost-awareness-billing_mode</td>\n",
       "      <td></td>\n",
       "      <td>Positive</td>\n",
       "      <td></td>\n",
       "    </tr>\n",
       "    <tr>\n",
       "      <th>23</th>\n",
       "      <td>https://github.com/ministryofjustice/modernisa...</td>\n",
       "      <td>Add S3 mount for Performance Hub</td>\n",
       "      <td>Add S3 mount for Performance Hub\\n## User Stor...</td>\n",
       "      <td>cost</td>\n",
       "      <td>cost-saving-provider, cost-awareness-provider</td>\n",
       "      <td></td>\n",
       "      <td>Negative</td>\n",
       "      <td></td>\n",
       "    </tr>\n",
       "    <tr>\n",
       "      <th>24</th>\n",
       "      <td>https://github.com/ministryofjustice/modernisa...</td>\n",
       "      <td>create a local sandbox transit gateway</td>\n",
       "      <td>create a local sandbox transit gateway\\nAn iss...</td>\n",
       "      <td>cost</td>\n",
       "      <td>cost-increase-networking-NAT</td>\n",
       "      <td></td>\n",
       "      <td>Negative</td>\n",
       "      <td></td>\n",
       "    </tr>\n",
       "    <tr>\n",
       "      <th>...</th>\n",
       "      <td>...</td>\n",
       "      <td>...</td>\n",
       "      <td>...</td>\n",
       "      <td>...</td>\n",
       "      <td>...</td>\n",
       "      <td>...</td>\n",
       "      <td>...</td>\n",
       "      <td>...</td>\n",
       "    </tr>\n",
       "    <tr>\n",
       "      <th>840</th>\n",
       "      <td>https://github.com/openshift/okd/issues/619</td>\n",
       "      <td>OKD 4.5 in AWS - Cluster did not started after...</td>\n",
       "      <td>OKD 4.5 in AWS - Cluster did not started after...</td>\n",
       "      <td>cost</td>\n",
       "      <td>cost-saving-cluster</td>\n",
       "      <td>kindof</td>\n",
       "      <td>Positive</td>\n",
       "      <td></td>\n",
       "    </tr>\n",
       "    <tr>\n",
       "      <th>855</th>\n",
       "      <td>https://github.com/ExpediaDotCom/haystack/issu...</td>\n",
       "      <td>[Feature Request] Log number of bytes sent and...</td>\n",
       "      <td>[Feature Request] Log number of bytes sent and...</td>\n",
       "      <td>cost</td>\n",
       "      <td>cost-saving-unknown</td>\n",
       "      <td></td>\n",
       "      <td>Positive</td>\n",
       "      <td></td>\n",
       "    </tr>\n",
       "    <tr>\n",
       "      <th>857</th>\n",
       "      <td>https://github.com/Guimove/terraform-aws-basti...</td>\n",
       "      <td>Route53 type CNAME?</td>\n",
       "      <td>Route53 type CNAME?\\nSince rout53 is creating ...</td>\n",
       "      <td>cheap</td>\n",
       "      <td>cost-saving-domain</td>\n",
       "      <td></td>\n",
       "      <td>Positive</td>\n",
       "      <td></td>\n",
       "    </tr>\n",
       "    <tr>\n",
       "      <th>858</th>\n",
       "      <td>https://github.com/Guimove/terraform-aws-basti...</td>\n",
       "      <td>please consider using launch template in place...</td>\n",
       "      <td>please consider using launch template in place...</td>\n",
       "      <td>cost</td>\n",
       "      <td>cost-saving-domain</td>\n",
       "      <td></td>\n",
       "      <td>Positive</td>\n",
       "      <td></td>\n",
       "    </tr>\n",
       "    <tr>\n",
       "      <th>859</th>\n",
       "      <td>https://github.com/Guimove/terraform-aws-basti...</td>\n",
       "      <td>[Feature request] Dynamic-latest AMI support f...</td>\n",
       "      <td>[Feature request] Dynamic-latest AMI support f...</td>\n",
       "      <td>cheap</td>\n",
       "      <td>cost-saving-instance</td>\n",
       "      <td></td>\n",
       "      <td>Positive</td>\n",
       "      <td></td>\n",
       "    </tr>\n",
       "  </tbody>\n",
       "</table>\n",
       "<p>207 rows × 8 columns</p>\n",
       "</div>"
      ]
     },
     "metadata": {},
     "output_type": "display_data"
    }
   ],
   "metadata": {
    "datalore": {
     "type": "CODE",
     "hide_input_from_viewers": false,
     "hide_output_from_viewers": false
    },
    "pycharm": {
     "name": "#%%\n"
    }
   }
  },
  {
   "cell_type": "code",
   "source": [
    "issues_df.drop(labels=[\"keyword\", \"\", \"102\", \"label\"], inplace=True, axis=1)"
   ],
   "execution_count": 165,
   "outputs": [
    {
     "name": "stderr",
     "text": [
      "/opt/python/envs/default/lib/python3.8/site-packages/pandas/core/frame.py:4906: SettingWithCopyWarning: \n",
      "A value is trying to be set on a copy of a slice from a DataFrame\n",
      "\n",
      "See the caveats in the documentation: https://pandas.pydata.org/pandas-docs/stable/user_guide/indexing.html#returning-a-view-versus-a-copy\n",
      "  return super().drop(\n"
     ],
     "output_type": "stream"
    }
   ],
   "metadata": {
    "datalore": {
     "type": "CODE",
     "hide_input_from_viewers": false,
     "hide_output_from_viewers": false
    },
    "pycharm": {
     "name": "#%%\n"
    }
   }
  },
  {
   "cell_type": "code",
   "source": [
    "issues_df"
   ],
   "execution_count": 166,
   "outputs": [
    {
     "data": {
      "text/html": [
       "<div>\n",
       "<style scoped>\n",
       "    .dataframe tbody tr th:only-of-type {\n",
       "        vertical-align: middle;\n",
       "    }\n",
       "\n",
       "    .dataframe tbody tr th {\n",
       "        vertical-align: top;\n",
       "    }\n",
       "\n",
       "    .dataframe thead th {\n",
       "        text-align: right;\n",
       "    }\n",
       "</style>\n",
       "<table border=\"1\" class=\"dataframe\">\n",
       "  <thead>\n",
       "    <tr style=\"text-align: right;\">\n",
       "      <th></th>\n",
       "      <th>html_url</th>\n",
       "      <th>title</th>\n",
       "      <th>body</th>\n",
       "      <th>sentiment</th>\n",
       "    </tr>\n",
       "  </thead>\n",
       "  <tbody>\n",
       "    <tr>\n",
       "      <th>15</th>\n",
       "      <td>https://github.com/coreos/tectonic-installer/i...</td>\n",
       "      <td>Terraform Modules</td>\n",
       "      <td>Terraform Modules\\nFEATURE REQUEST\\r\\n\\r\\nFirs...</td>\n",
       "      <td>Negative</td>\n",
       "    </tr>\n",
       "    <tr>\n",
       "      <th>19</th>\n",
       "      <td>https://github.com/coreos/tectonic-installer/i...</td>\n",
       "      <td>Add Spotinst integration for worker nodes as a...</td>\n",
       "      <td>Add Spotinst integration for worker nodes as a...</td>\n",
       "      <td>Positive</td>\n",
       "    </tr>\n",
       "    <tr>\n",
       "      <th>21</th>\n",
       "      <td>https://github.com/ministryofjustice/modernisa...</td>\n",
       "      <td>Check billing for regional services configured...</td>\n",
       "      <td>Check billing for regional services configured...</td>\n",
       "      <td>Positive</td>\n",
       "    </tr>\n",
       "    <tr>\n",
       "      <th>23</th>\n",
       "      <td>https://github.com/ministryofjustice/modernisa...</td>\n",
       "      <td>Add S3 mount for Performance Hub</td>\n",
       "      <td>Add S3 mount for Performance Hub\\n## User Stor...</td>\n",
       "      <td>Negative</td>\n",
       "    </tr>\n",
       "    <tr>\n",
       "      <th>24</th>\n",
       "      <td>https://github.com/ministryofjustice/modernisa...</td>\n",
       "      <td>create a local sandbox transit gateway</td>\n",
       "      <td>create a local sandbox transit gateway\\nAn iss...</td>\n",
       "      <td>Negative</td>\n",
       "    </tr>\n",
       "    <tr>\n",
       "      <th>...</th>\n",
       "      <td>...</td>\n",
       "      <td>...</td>\n",
       "      <td>...</td>\n",
       "      <td>...</td>\n",
       "    </tr>\n",
       "    <tr>\n",
       "      <th>840</th>\n",
       "      <td>https://github.com/openshift/okd/issues/619</td>\n",
       "      <td>OKD 4.5 in AWS - Cluster did not started after...</td>\n",
       "      <td>OKD 4.5 in AWS - Cluster did not started after...</td>\n",
       "      <td>Positive</td>\n",
       "    </tr>\n",
       "    <tr>\n",
       "      <th>855</th>\n",
       "      <td>https://github.com/ExpediaDotCom/haystack/issu...</td>\n",
       "      <td>[Feature Request] Log number of bytes sent and...</td>\n",
       "      <td>[Feature Request] Log number of bytes sent and...</td>\n",
       "      <td>Positive</td>\n",
       "    </tr>\n",
       "    <tr>\n",
       "      <th>857</th>\n",
       "      <td>https://github.com/Guimove/terraform-aws-basti...</td>\n",
       "      <td>Route53 type CNAME?</td>\n",
       "      <td>Route53 type CNAME?\\nSince rout53 is creating ...</td>\n",
       "      <td>Positive</td>\n",
       "    </tr>\n",
       "    <tr>\n",
       "      <th>858</th>\n",
       "      <td>https://github.com/Guimove/terraform-aws-basti...</td>\n",
       "      <td>please consider using launch template in place...</td>\n",
       "      <td>please consider using launch template in place...</td>\n",
       "      <td>Positive</td>\n",
       "    </tr>\n",
       "    <tr>\n",
       "      <th>859</th>\n",
       "      <td>https://github.com/Guimove/terraform-aws-basti...</td>\n",
       "      <td>[Feature request] Dynamic-latest AMI support f...</td>\n",
       "      <td>[Feature request] Dynamic-latest AMI support f...</td>\n",
       "      <td>Positive</td>\n",
       "    </tr>\n",
       "  </tbody>\n",
       "</table>\n",
       "<p>207 rows × 4 columns</p>\n",
       "</div>"
      ]
     },
     "metadata": {},
     "output_type": "display_data"
    }
   ],
   "metadata": {
    "datalore": {
     "type": "CODE",
     "hide_input_from_viewers": false,
     "hide_output_from_viewers": false
    },
    "pycharm": {
     "name": "#%%\n"
    }
   }
  },
  {
   "cell_type": "markdown",
   "source": [
    "## Clean and prepare the dataframe for sentiment analysis"
   ],
   "attachments": {},
   "metadata": {
    "datalore": {
     "type": "MD",
     "hide_input_from_viewers": false,
     "hide_output_from_viewers": false
    },
    "pycharm": {
     "name": "#%% md\n"
    }
   }
  },
  {
   "cell_type": "code",
   "source": [
    "# Remove Markdown and HTML from text\n",
    "for index, row in issues_df.iterrows():\n",
    "    row[\"body\"] = markdown(row[\"body\"])\n",
    "    row[\"body\"] = ''.join(BeautifulSoup(row[\"body\"]).findAll(text=True))"
   ],
   "execution_count": 167,
   "outputs": [],
   "metadata": {
    "datalore": {
     "type": "CODE",
     "hide_input_from_viewers": false,
     "hide_output_from_viewers": false
    },
    "pycharm": {
     "name": "#%%\n"
    }
   }
  },
  {
   "cell_type": "code",
   "source": [
    "issues_df[\"Predicted SE\"] = \"\"\n",
    "issues_df"
   ],
   "execution_count": 168,
   "outputs": [
    {
     "name": "stderr",
     "text": [
      "<ipython-input-168-8cc7fc56b683>:1: SettingWithCopyWarning: \n",
      "A value is trying to be set on a copy of a slice from a DataFrame.\n",
      "Try using .loc[row_indexer,col_indexer] = value instead\n",
      "\n",
      "See the caveats in the documentation: https://pandas.pydata.org/pandas-docs/stable/user_guide/indexing.html#returning-a-view-versus-a-copy\n",
      "  issues_df[\"Predicted SE\"] = \"\"\n"
     ],
     "output_type": "stream"
    },
    {
     "data": {
      "text/html": [
       "<div>\n",
       "<style scoped>\n",
       "    .dataframe tbody tr th:only-of-type {\n",
       "        vertical-align: middle;\n",
       "    }\n",
       "\n",
       "    .dataframe tbody tr th {\n",
       "        vertical-align: top;\n",
       "    }\n",
       "\n",
       "    .dataframe thead th {\n",
       "        text-align: right;\n",
       "    }\n",
       "</style>\n",
       "<table border=\"1\" class=\"dataframe\">\n",
       "  <thead>\n",
       "    <tr style=\"text-align: right;\">\n",
       "      <th></th>\n",
       "      <th>html_url</th>\n",
       "      <th>title</th>\n",
       "      <th>body</th>\n",
       "      <th>sentiment</th>\n",
       "      <th>Predicted SE</th>\n",
       "    </tr>\n",
       "  </thead>\n",
       "  <tbody>\n",
       "    <tr>\n",
       "      <th>15</th>\n",
       "      <td>https://github.com/coreos/tectonic-installer/i...</td>\n",
       "      <td>Terraform Modules</td>\n",
       "      <td>Terraform Modules\\nFEATURE REQUEST\\nFirstly th...</td>\n",
       "      <td>Negative</td>\n",
       "      <td></td>\n",
       "    </tr>\n",
       "    <tr>\n",
       "      <th>19</th>\n",
       "      <td>https://github.com/coreos/tectonic-installer/i...</td>\n",
       "      <td>Add Spotinst integration for worker nodes as a...</td>\n",
       "      <td>Add Spotinst integration for worker nodes as a...</td>\n",
       "      <td>Positive</td>\n",
       "      <td></td>\n",
       "    </tr>\n",
       "    <tr>\n",
       "      <th>21</th>\n",
       "      <td>https://github.com/ministryofjustice/modernisa...</td>\n",
       "      <td>Check billing for regional services configured...</td>\n",
       "      <td>Check billing for regional services configured...</td>\n",
       "      <td>Positive</td>\n",
       "      <td></td>\n",
       "    </tr>\n",
       "    <tr>\n",
       "      <th>23</th>\n",
       "      <td>https://github.com/ministryofjustice/modernisa...</td>\n",
       "      <td>Add S3 mount for Performance Hub</td>\n",
       "      <td>Add S3 mount for Performance Hub\\nUser Story\\n...</td>\n",
       "      <td>Negative</td>\n",
       "      <td></td>\n",
       "    </tr>\n",
       "    <tr>\n",
       "      <th>24</th>\n",
       "      <td>https://github.com/ministryofjustice/modernisa...</td>\n",
       "      <td>create a local sandbox transit gateway</td>\n",
       "      <td>create a local sandbox transit gateway\\nAn iss...</td>\n",
       "      <td>Negative</td>\n",
       "      <td></td>\n",
       "    </tr>\n",
       "    <tr>\n",
       "      <th>...</th>\n",
       "      <td>...</td>\n",
       "      <td>...</td>\n",
       "      <td>...</td>\n",
       "      <td>...</td>\n",
       "      <td>...</td>\n",
       "    </tr>\n",
       "    <tr>\n",
       "      <th>840</th>\n",
       "      <td>https://github.com/openshift/okd/issues/619</td>\n",
       "      <td>OKD 4.5 in AWS - Cluster did not started after...</td>\n",
       "      <td>OKD 4.5 in AWS - Cluster did not started after...</td>\n",
       "      <td>Positive</td>\n",
       "      <td></td>\n",
       "    </tr>\n",
       "    <tr>\n",
       "      <th>855</th>\n",
       "      <td>https://github.com/ExpediaDotCom/haystack/issu...</td>\n",
       "      <td>[Feature Request] Log number of bytes sent and...</td>\n",
       "      <td>[Feature Request] Log number of bytes sent and...</td>\n",
       "      <td>Positive</td>\n",
       "      <td></td>\n",
       "    </tr>\n",
       "    <tr>\n",
       "      <th>857</th>\n",
       "      <td>https://github.com/Guimove/terraform-aws-basti...</td>\n",
       "      <td>Route53 type CNAME?</td>\n",
       "      <td>Route53 type CNAME?\\nSince rout53 is creating ...</td>\n",
       "      <td>Positive</td>\n",
       "      <td></td>\n",
       "    </tr>\n",
       "    <tr>\n",
       "      <th>858</th>\n",
       "      <td>https://github.com/Guimove/terraform-aws-basti...</td>\n",
       "      <td>please consider using launch template in place...</td>\n",
       "      <td>please consider using launch template in place...</td>\n",
       "      <td>Positive</td>\n",
       "      <td></td>\n",
       "    </tr>\n",
       "    <tr>\n",
       "      <th>859</th>\n",
       "      <td>https://github.com/Guimove/terraform-aws-basti...</td>\n",
       "      <td>[Feature request] Dynamic-latest AMI support f...</td>\n",
       "      <td>[Feature request] Dynamic-latest AMI support f...</td>\n",
       "      <td>Positive</td>\n",
       "      <td></td>\n",
       "    </tr>\n",
       "  </tbody>\n",
       "</table>\n",
       "<p>207 rows × 5 columns</p>\n",
       "</div>"
      ]
     },
     "metadata": {},
     "output_type": "display_data"
    }
   ],
   "metadata": {
    "datalore": {
     "type": "CODE",
     "hide_input_from_viewers": false,
     "hide_output_from_viewers": false
    },
    "pycharm": {
     "name": "#%%\n"
    }
   }
  },
  {
   "cell_type": "code",
   "source": [
    "analyzer = SentimentIntensityAnalyzer()\n",
    "for index, row in issues_df.iterrows():\n",
    "    sentiment_dict = analyzer.polarity_scores(row[\"body\"])\n",
    "\n",
    "    if sentiment_dict['compound'] >= 0.05 :\n",
    "        overall_sentiment = \"Positive\"\n",
    "\n",
    "    elif sentiment_dict['compound'] <= - 0.05 :\n",
    "        overall_sentiment = \"Negative\"\n",
    "\n",
    "    else :\n",
    "        overall_sentiment = \"Neutral\"\n",
    "\n",
    "    row[\"Predicted SE\"] = overall_sentiment"
   ],
   "execution_count": 169,
   "outputs": [],
   "metadata": {
    "datalore": {
     "type": "CODE",
     "hide_input_from_viewers": false,
     "hide_output_from_viewers": false
    },
    "pycharm": {
     "name": "#%%\n"
    }
   }
  },
  {
   "cell_type": "code",
   "source": [
    "issues_df"
   ],
   "execution_count": 170,
   "outputs": [
    {
     "data": {
      "text/html": [
       "<div>\n",
       "<style scoped>\n",
       "    .dataframe tbody tr th:only-of-type {\n",
       "        vertical-align: middle;\n",
       "    }\n",
       "\n",
       "    .dataframe tbody tr th {\n",
       "        vertical-align: top;\n",
       "    }\n",
       "\n",
       "    .dataframe thead th {\n",
       "        text-align: right;\n",
       "    }\n",
       "</style>\n",
       "<table border=\"1\" class=\"dataframe\">\n",
       "  <thead>\n",
       "    <tr style=\"text-align: right;\">\n",
       "      <th></th>\n",
       "      <th>html_url</th>\n",
       "      <th>title</th>\n",
       "      <th>body</th>\n",
       "      <th>sentiment</th>\n",
       "      <th>Predicted SE</th>\n",
       "    </tr>\n",
       "  </thead>\n",
       "  <tbody>\n",
       "    <tr>\n",
       "      <th>15</th>\n",
       "      <td>https://github.com/coreos/tectonic-installer/i...</td>\n",
       "      <td>Terraform Modules</td>\n",
       "      <td>Terraform Modules\\nFEATURE REQUEST\\nFirstly th...</td>\n",
       "      <td>Negative</td>\n",
       "      <td>Positive</td>\n",
       "    </tr>\n",
       "    <tr>\n",
       "      <th>19</th>\n",
       "      <td>https://github.com/coreos/tectonic-installer/i...</td>\n",
       "      <td>Add Spotinst integration for worker nodes as a...</td>\n",
       "      <td>Add Spotinst integration for worker nodes as a...</td>\n",
       "      <td>Positive</td>\n",
       "      <td>Positive</td>\n",
       "    </tr>\n",
       "    <tr>\n",
       "      <th>21</th>\n",
       "      <td>https://github.com/ministryofjustice/modernisa...</td>\n",
       "      <td>Check billing for regional services configured...</td>\n",
       "      <td>Check billing for regional services configured...</td>\n",
       "      <td>Positive</td>\n",
       "      <td>Negative</td>\n",
       "    </tr>\n",
       "    <tr>\n",
       "      <th>23</th>\n",
       "      <td>https://github.com/ministryofjustice/modernisa...</td>\n",
       "      <td>Add S3 mount for Performance Hub</td>\n",
       "      <td>Add S3 mount for Performance Hub\\nUser Story\\n...</td>\n",
       "      <td>Negative</td>\n",
       "      <td>Positive</td>\n",
       "    </tr>\n",
       "    <tr>\n",
       "      <th>24</th>\n",
       "      <td>https://github.com/ministryofjustice/modernisa...</td>\n",
       "      <td>create a local sandbox transit gateway</td>\n",
       "      <td>create a local sandbox transit gateway\\nAn iss...</td>\n",
       "      <td>Negative</td>\n",
       "      <td>Positive</td>\n",
       "    </tr>\n",
       "    <tr>\n",
       "      <th>...</th>\n",
       "      <td>...</td>\n",
       "      <td>...</td>\n",
       "      <td>...</td>\n",
       "      <td>...</td>\n",
       "      <td>...</td>\n",
       "    </tr>\n",
       "    <tr>\n",
       "      <th>840</th>\n",
       "      <td>https://github.com/openshift/okd/issues/619</td>\n",
       "      <td>OKD 4.5 in AWS - Cluster did not started after...</td>\n",
       "      <td>OKD 4.5 in AWS - Cluster did not started after...</td>\n",
       "      <td>Positive</td>\n",
       "      <td>Negative</td>\n",
       "    </tr>\n",
       "    <tr>\n",
       "      <th>855</th>\n",
       "      <td>https://github.com/ExpediaDotCom/haystack/issu...</td>\n",
       "      <td>[Feature Request] Log number of bytes sent and...</td>\n",
       "      <td>[Feature Request] Log number of bytes sent and...</td>\n",
       "      <td>Positive</td>\n",
       "      <td>Positive</td>\n",
       "    </tr>\n",
       "    <tr>\n",
       "      <th>857</th>\n",
       "      <td>https://github.com/Guimove/terraform-aws-basti...</td>\n",
       "      <td>Route53 type CNAME?</td>\n",
       "      <td>Route53 type CNAME?\\nSince rout53 is creating ...</td>\n",
       "      <td>Positive</td>\n",
       "      <td>Positive</td>\n",
       "    </tr>\n",
       "    <tr>\n",
       "      <th>858</th>\n",
       "      <td>https://github.com/Guimove/terraform-aws-basti...</td>\n",
       "      <td>please consider using launch template in place...</td>\n",
       "      <td>please consider using launch template in place...</td>\n",
       "      <td>Positive</td>\n",
       "      <td>Positive</td>\n",
       "    </tr>\n",
       "    <tr>\n",
       "      <th>859</th>\n",
       "      <td>https://github.com/Guimove/terraform-aws-basti...</td>\n",
       "      <td>[Feature request] Dynamic-latest AMI support f...</td>\n",
       "      <td>[Feature request] Dynamic-latest AMI support f...</td>\n",
       "      <td>Positive</td>\n",
       "      <td>Positive</td>\n",
       "    </tr>\n",
       "  </tbody>\n",
       "</table>\n",
       "<p>207 rows × 5 columns</p>\n",
       "</div>"
      ]
     },
     "metadata": {},
     "output_type": "display_data"
    }
   ],
   "metadata": {
    "datalore": {
     "type": "CODE",
     "hide_input_from_viewers": false,
     "hide_output_from_viewers": false
    },
    "pycharm": {
     "name": "#%%\n"
    }
   }
  },
  {
   "cell_type": "code",
   "source": [
    "# Check only the issues that have been predicted.\n",
    "issues_df[issues_df[\"sentiment\"] != \"\"]"
   ],
   "execution_count": 173,
   "outputs": [
    {
     "data": {
      "text/html": [
       "<div>\n",
       "<style scoped>\n",
       "    .dataframe tbody tr th:only-of-type {\n",
       "        vertical-align: middle;\n",
       "    }\n",
       "\n",
       "    .dataframe tbody tr th {\n",
       "        vertical-align: top;\n",
       "    }\n",
       "\n",
       "    .dataframe thead th {\n",
       "        text-align: right;\n",
       "    }\n",
       "</style>\n",
       "<table border=\"1\" class=\"dataframe\">\n",
       "  <thead>\n",
       "    <tr style=\"text-align: right;\">\n",
       "      <th></th>\n",
       "      <th>html_url</th>\n",
       "      <th>title</th>\n",
       "      <th>body</th>\n",
       "      <th>sentiment</th>\n",
       "      <th>Predicted SE</th>\n",
       "    </tr>\n",
       "  </thead>\n",
       "  <tbody>\n",
       "    <tr>\n",
       "      <th>15</th>\n",
       "      <td>https://github.com/coreos/tectonic-installer/i...</td>\n",
       "      <td>Terraform Modules</td>\n",
       "      <td>Terraform Modules\\nFEATURE REQUEST\\nFirstly th...</td>\n",
       "      <td>Negative</td>\n",
       "      <td>Positive</td>\n",
       "    </tr>\n",
       "    <tr>\n",
       "      <th>19</th>\n",
       "      <td>https://github.com/coreos/tectonic-installer/i...</td>\n",
       "      <td>Add Spotinst integration for worker nodes as a...</td>\n",
       "      <td>Add Spotinst integration for worker nodes as a...</td>\n",
       "      <td>Positive</td>\n",
       "      <td>Positive</td>\n",
       "    </tr>\n",
       "    <tr>\n",
       "      <th>21</th>\n",
       "      <td>https://github.com/ministryofjustice/modernisa...</td>\n",
       "      <td>Check billing for regional services configured...</td>\n",
       "      <td>Check billing for regional services configured...</td>\n",
       "      <td>Positive</td>\n",
       "      <td>Negative</td>\n",
       "    </tr>\n",
       "    <tr>\n",
       "      <th>23</th>\n",
       "      <td>https://github.com/ministryofjustice/modernisa...</td>\n",
       "      <td>Add S3 mount for Performance Hub</td>\n",
       "      <td>Add S3 mount for Performance Hub\\nUser Story\\n...</td>\n",
       "      <td>Negative</td>\n",
       "      <td>Positive</td>\n",
       "    </tr>\n",
       "    <tr>\n",
       "      <th>24</th>\n",
       "      <td>https://github.com/ministryofjustice/modernisa...</td>\n",
       "      <td>create a local sandbox transit gateway</td>\n",
       "      <td>create a local sandbox transit gateway\\nAn iss...</td>\n",
       "      <td>Negative</td>\n",
       "      <td>Positive</td>\n",
       "    </tr>\n",
       "    <tr>\n",
       "      <th>...</th>\n",
       "      <td>...</td>\n",
       "      <td>...</td>\n",
       "      <td>...</td>\n",
       "      <td>...</td>\n",
       "      <td>...</td>\n",
       "    </tr>\n",
       "    <tr>\n",
       "      <th>840</th>\n",
       "      <td>https://github.com/openshift/okd/issues/619</td>\n",
       "      <td>OKD 4.5 in AWS - Cluster did not started after...</td>\n",
       "      <td>OKD 4.5 in AWS - Cluster did not started after...</td>\n",
       "      <td>Positive</td>\n",
       "      <td>Negative</td>\n",
       "    </tr>\n",
       "    <tr>\n",
       "      <th>855</th>\n",
       "      <td>https://github.com/ExpediaDotCom/haystack/issu...</td>\n",
       "      <td>[Feature Request] Log number of bytes sent and...</td>\n",
       "      <td>[Feature Request] Log number of bytes sent and...</td>\n",
       "      <td>Positive</td>\n",
       "      <td>Positive</td>\n",
       "    </tr>\n",
       "    <tr>\n",
       "      <th>857</th>\n",
       "      <td>https://github.com/Guimove/terraform-aws-basti...</td>\n",
       "      <td>Route53 type CNAME?</td>\n",
       "      <td>Route53 type CNAME?\\nSince rout53 is creating ...</td>\n",
       "      <td>Positive</td>\n",
       "      <td>Positive</td>\n",
       "    </tr>\n",
       "    <tr>\n",
       "      <th>858</th>\n",
       "      <td>https://github.com/Guimove/terraform-aws-basti...</td>\n",
       "      <td>please consider using launch template in place...</td>\n",
       "      <td>please consider using launch template in place...</td>\n",
       "      <td>Positive</td>\n",
       "      <td>Positive</td>\n",
       "    </tr>\n",
       "    <tr>\n",
       "      <th>859</th>\n",
       "      <td>https://github.com/Guimove/terraform-aws-basti...</td>\n",
       "      <td>[Feature request] Dynamic-latest AMI support f...</td>\n",
       "      <td>[Feature request] Dynamic-latest AMI support f...</td>\n",
       "      <td>Positive</td>\n",
       "      <td>Positive</td>\n",
       "    </tr>\n",
       "  </tbody>\n",
       "</table>\n",
       "<p>100 rows × 5 columns</p>\n",
       "</div>"
      ]
     },
     "metadata": {},
     "output_type": "display_data"
    }
   ],
   "metadata": {
    "datalore": {
     "type": "CODE",
     "hide_input_from_viewers": false,
     "hide_output_from_viewers": false
    },
    "pycharm": {
     "name": "#%%\n"
    }
   }
  },
  {
   "cell_type": "code",
   "source": [
    "# Needed to generate a confusion matrix\n",
    "expected = []\n",
    "predicted = []\n",
    "for index, row in issues_df.iterrows():\n",
    "    if row[\"sentiment\"]:\n",
    "        expected.append(row[\"sentiment\"])\n",
    "        predicted.append(row[\"Predicted SE\"])"
   ],
   "execution_count": 174,
   "outputs": [],
   "metadata": {
    "datalore": {
     "type": "CODE",
     "hide_input_from_viewers": false,
     "hide_output_from_viewers": false
    },
    "pycharm": {
     "name": "#%%\n"
    }
   }
  },
  {
   "cell_type": "code",
   "source": [
    "results = confusion_matrix(expected, predicted, labels=[\"Negative\", \"Neutral\", \"Positive\"])\n",
    "print(results)"
   ],
   "execution_count": 175,
   "outputs": [
    {
     "name": "stdout",
     "text": [
      "[[ 3  0 28]\n",
      " [ 4  2 17]\n",
      " [ 7  3 36]]\n"
     ],
     "output_type": "stream"
    }
   ],
   "metadata": {
    "datalore": {
     "type": "CODE",
     "hide_input_from_viewers": false,
     "hide_output_from_viewers": false
    },
    "pycharm": {
     "name": "#%%\n"
    }
   }
  },
  {
   "cell_type": "code",
   "source": [
    "# Visualize the confusion matrices\n",
    "import seaborn as sns\n",
    "\n",
    "sns.set(rc = {'figure.figsize':(15,8)})\n",
    "\n",
    "ax = sns.heatmap(results, annot=True, cmap='Blues', cbar = False, annot_kws={\"size\": 20})\n",
    "\n",
    "ax.set_title(f'Accuracy score for Vader: {int(accuracy_score(expected, predicted) * 100)}%\\n\\n', fontsize=20, weight='bold')\n",
    "ax.set_xlabel('\\nPredicted Values', fontsize = 20)\n",
    "ax.set_ylabel('Actual Values ', fontsize = 20)\n",
    "\n",
    "## Ticket labels - List must be in alphabetical order\n",
    "ax.xaxis.set_ticklabels(['Negative','Neutral', 'Positive'], fontsize = 20)\n",
    "ax.yaxis.set_ticklabels(['Negative','Neutral', 'Positive'], fontsize = 20)\n",
    "figure = ax.get_figure()\n",
    "\n",
    "figure.savefig('Vader-matrix.png', bbox_inches='tight')"
   ],
   "execution_count": 176,
   "outputs": [
    {
     "data": {
      "image/png": "[encoded data removed]"
     },
     "metadata": {
      "image/png": {}
     },
     "output_type": "display_data"
    }
   ],
   "metadata": {
    "datalore": {
     "type": "CODE",
     "hide_input_from_viewers": false,
     "hide_output_from_viewers": false
    },
    "pycharm": {
     "name": "#%%\n"
    }
   }
  },
  {
   "cell_type": "markdown",
   "source": [
    "# Stanza\n",
    "\n",
    "### Run from this code block below for only the Stanza experiments."
   ],
   "attachments": {},
   "metadata": {
    "datalore": {
     "type": "MD",
     "hide_input_from_viewers": false,
     "hide_output_from_viewers": false,
     "sheet_delimiter": true
    },
    "pycharm": {
     "name": "#%% md\n"
    }
   }
  },
  {
   "cell_type": "code",
   "source": [
    "import pygsheets\n",
    "import pandas as pd\n",
    "import json\n",
    "from markdown import markdown\n",
    "from bs4 import BeautifulSoup\n",
    "import stanza\n",
    "from sklearn.metrics import confusion_matrix\n",
    "from sklearn.metrics import accuracy_score"
   ],
   "execution_count": 177,
   "outputs": [],
   "metadata": {
    "datalore": {
     "type": "CODE",
     "hide_input_from_viewers": false,
     "hide_output_from_viewers": false
    },
    "pycharm": {
     "name": "#%%\n"
    }
   }
  },
  {
   "cell_type": "markdown",
   "source": [
    "## Load the labeled data from the Google Drive into a Pandas dataframe"
   ],
   "attachments": {},
   "metadata": {
    "datalore": {
     "type": "MD",
     "hide_input_from_viewers": false,
     "hide_output_from_viewers": false
    },
    "pycharm": {
     "name": "#%% md\n"
    }
   }
  },
  {
   "cell_type": "code",
   "source": [
    "# access the sheets and get the commit sheet\n",
    "\n",
    "# Either change the service_file with your personal file, or use the local version of the CSV document.\n",
    "gc = pygsheets.authorize(service_file='commitevalutaion-6a3c4370bf89.json')\n",
    "sheets = gc.open_by_url(\"https://docs.google.com/spreadsheets/d/1OYsymuoRJGAXTHQImI0ycbN2NQhsxSkqlj-W-PEHRvw/edit#gid=1782607577\")\n",
    "commit_sheet = sheets[1]\n",
    "\n",
    "# get a dictionary of the tables\n",
    "data_dic = commit_sheet.get_all_records()\n",
    "\n",
    "pandas_df = pd.DataFrame(data=data_dic)\n",
    "issues_df = pandas_df[pandas_df[\"label\"].str.contains(\"cost-\")]\n",
    "issues_df"
   ],
   "execution_count": 178,
   "outputs": [
    {
     "data": {
      "text/html": [
       "<div>\n",
       "<style scoped>\n",
       "    .dataframe tbody tr th:only-of-type {\n",
       "        vertical-align: middle;\n",
       "    }\n",
       "\n",
       "    .dataframe tbody tr th {\n",
       "        vertical-align: top;\n",
       "    }\n",
       "\n",
       "    .dataframe thead th {\n",
       "        text-align: right;\n",
       "    }\n",
       "</style>\n",
       "<table border=\"1\" class=\"dataframe\">\n",
       "  <thead>\n",
       "    <tr style=\"text-align: right;\">\n",
       "      <th></th>\n",
       "      <th>html_url</th>\n",
       "      <th>title</th>\n",
       "      <th>body</th>\n",
       "      <th>keyword</th>\n",
       "      <th>label</th>\n",
       "      <th></th>\n",
       "      <th>sentiment</th>\n",
       "      <th>102</th>\n",
       "    </tr>\n",
       "  </thead>\n",
       "  <tbody>\n",
       "    <tr>\n",
       "      <th>15</th>\n",
       "      <td>https://github.com/coreos/tectonic-installer/i...</td>\n",
       "      <td>Terraform Modules</td>\n",
       "      <td>identity, prometheus, heapster, and other feat...</td>\n",
       "      <td>pay</td>\n",
       "      <td>cost-awareness-billing_mode</td>\n",
       "      <td>They are wondering if it's possible to remove ...</td>\n",
       "      <td>Negative</td>\n",
       "      <td></td>\n",
       "    </tr>\n",
       "    <tr>\n",
       "      <th>19</th>\n",
       "      <td>https://github.com/coreos/tectonic-installer/i...</td>\n",
       "      <td>Add Spotinst integration for worker nodes as a...</td>\n",
       "      <td>s Spot Instance market](https://aws.amazon.com...</td>\n",
       "      <td>cost</td>\n",
       "      <td>cost-saving-instance</td>\n",
       "      <td></td>\n",
       "      <td>Positive</td>\n",
       "      <td></td>\n",
       "    </tr>\n",
       "    <tr>\n",
       "      <th>21</th>\n",
       "      <td>https://github.com/ministryofjustice/modernisa...</td>\n",
       "      <td>Check billing for regional services configured...</td>\n",
       "      <td>Check billing for regional services configured...</td>\n",
       "      <td>bill</td>\n",
       "      <td>cost-awareness-billing_mode</td>\n",
       "      <td></td>\n",
       "      <td>Positive</td>\n",
       "      <td></td>\n",
       "    </tr>\n",
       "    <tr>\n",
       "      <th>23</th>\n",
       "      <td>https://github.com/ministryofjustice/modernisa...</td>\n",
       "      <td>Add S3 mount for Performance Hub</td>\n",
       "      <td>or one can be created specifically for managin...</td>\n",
       "      <td>cost</td>\n",
       "      <td>cost-saving-provider, cost-awareness-provider</td>\n",
       "      <td></td>\n",
       "      <td>Negative</td>\n",
       "      <td></td>\n",
       "    </tr>\n",
       "    <tr>\n",
       "      <th>24</th>\n",
       "      <td>https://github.com/ministryofjustice/modernisa...</td>\n",
       "      <td>create a local sandbox transit gateway</td>\n",
       "      <td>the default route on Mod Plaformform is used f...</td>\n",
       "      <td>cost</td>\n",
       "      <td>cost-increase-networking-NAT</td>\n",
       "      <td></td>\n",
       "      <td>Negative</td>\n",
       "      <td></td>\n",
       "    </tr>\n",
       "    <tr>\n",
       "      <th>...</th>\n",
       "      <td>...</td>\n",
       "      <td>...</td>\n",
       "      <td>...</td>\n",
       "      <td>...</td>\n",
       "      <td>...</td>\n",
       "      <td>...</td>\n",
       "      <td>...</td>\n",
       "      <td>...</td>\n",
       "    </tr>\n",
       "    <tr>\n",
       "      <th>840</th>\n",
       "      <td>https://github.com/openshift/okd/issues/619</td>\n",
       "      <td>OKD 4.5 in AWS - Cluster did not started after...</td>\n",
       "      <td>4.5.0-0.okd-2020-10-15-235428 To save the cost...</td>\n",
       "      <td>cost</td>\n",
       "      <td>cost-saving-cluster</td>\n",
       "      <td>kindof</td>\n",
       "      <td>Positive</td>\n",
       "      <td></td>\n",
       "    </tr>\n",
       "    <tr>\n",
       "      <th>855</th>\n",
       "      <td>https://github.com/ExpediaDotCom/haystack/issu...</td>\n",
       "      <td>[Feature Request] Log number of bytes sent and...</td>\n",
       "      <td>more we increase the performance of our servic...</td>\n",
       "      <td>cost</td>\n",
       "      <td>cost-saving-unknown</td>\n",
       "      <td></td>\n",
       "      <td>Positive</td>\n",
       "      <td></td>\n",
       "    </tr>\n",
       "    <tr>\n",
       "      <th>857</th>\n",
       "      <td>https://github.com/Guimove/terraform-aws-basti...</td>\n",
       "      <td>Route53 type CNAME?</td>\n",
       "      <td>bastion elb. Maybe type 'A' with alias should ...</td>\n",
       "      <td>cheap</td>\n",
       "      <td>cost-saving-domain</td>\n",
       "      <td></td>\n",
       "      <td>Positive</td>\n",
       "      <td></td>\n",
       "    </tr>\n",
       "    <tr>\n",
       "      <th>858</th>\n",
       "      <td>https://github.com/Guimove/terraform-aws-basti...</td>\n",
       "      <td>please consider using launch template in place...</td>\n",
       "      <td>either with an autoscaling group behind nlb or...</td>\n",
       "      <td>cost</td>\n",
       "      <td>cost-saving-domain</td>\n",
       "      <td></td>\n",
       "      <td>Positive</td>\n",
       "      <td></td>\n",
       "    </tr>\n",
       "    <tr>\n",
       "      <th>859</th>\n",
       "      <td>https://github.com/Guimove/terraform-aws-basti...</td>\n",
       "      <td>[Feature request] Dynamic-latest AMI support f...</td>\n",
       "      <td>would be really great if the new `t4g` instanc...</td>\n",
       "      <td>cheap</td>\n",
       "      <td>cost-saving-instance</td>\n",
       "      <td></td>\n",
       "      <td>Positive</td>\n",
       "      <td></td>\n",
       "    </tr>\n",
       "  </tbody>\n",
       "</table>\n",
       "<p>207 rows × 8 columns</p>\n",
       "</div>"
      ]
     },
     "metadata": {},
     "output_type": "display_data"
    }
   ],
   "metadata": {
    "datalore": {
     "type": "CODE",
     "hide_input_from_viewers": false,
     "hide_output_from_viewers": false
    },
    "pycharm": {
     "name": "#%%\n"
    }
   }
  },
  {
   "cell_type": "code",
   "source": [
    "# Loading the original json for the complete body\n",
    "with open('terraform_issues_updated.json', 'r') as f:\n",
    "  original = json.load(f)\n",
    "\n",
    "# Filter the title and body of the issues/PRs\n",
    "issue_bodies = []\n",
    "for repo in original[\"repositories\"]:\n",
    "    for issue in repo[\"issues\"]:\n",
    "        for index, row in issues_df.iterrows():\n",
    "            if issue[\"html_url\"] == row[\"html_url\"]:\n",
    "                row[\"body\"] = \"\"\n",
    "                if issue[\"title\"] is not None:\n",
    "                    row[\"body\"] += issue[\"title\"]\n",
    "                if issue[\"body\"] is not None:\n",
    "                    row[\"body\"] += \"\\n\" + issue[\"body\"]\n",
    "                for comment in issue['comments_data']:\n",
    "                    row[\"body\"] += \"\\n\" + comment[\"body\"]\n",
    "issues_df"
   ],
   "execution_count": 179,
   "outputs": [
    {
     "data": {
      "text/html": [
       "<div>\n",
       "<style scoped>\n",
       "    .dataframe tbody tr th:only-of-type {\n",
       "        vertical-align: middle;\n",
       "    }\n",
       "\n",
       "    .dataframe tbody tr th {\n",
       "        vertical-align: top;\n",
       "    }\n",
       "\n",
       "    .dataframe thead th {\n",
       "        text-align: right;\n",
       "    }\n",
       "</style>\n",
       "<table border=\"1\" class=\"dataframe\">\n",
       "  <thead>\n",
       "    <tr style=\"text-align: right;\">\n",
       "      <th></th>\n",
       "      <th>html_url</th>\n",
       "      <th>title</th>\n",
       "      <th>body</th>\n",
       "      <th>keyword</th>\n",
       "      <th>label</th>\n",
       "      <th></th>\n",
       "      <th>sentiment</th>\n",
       "      <th>102</th>\n",
       "    </tr>\n",
       "  </thead>\n",
       "  <tbody>\n",
       "    <tr>\n",
       "      <th>15</th>\n",
       "      <td>https://github.com/coreos/tectonic-installer/i...</td>\n",
       "      <td>Terraform Modules</td>\n",
       "      <td>Terraform Modules\\nFEATURE REQUEST\\r\\n\\r\\nFirs...</td>\n",
       "      <td>pay</td>\n",
       "      <td>cost-awareness-billing_mode</td>\n",
       "      <td>They are wondering if it's possible to remove ...</td>\n",
       "      <td>Negative</td>\n",
       "      <td></td>\n",
       "    </tr>\n",
       "    <tr>\n",
       "      <th>19</th>\n",
       "      <td>https://github.com/coreos/tectonic-installer/i...</td>\n",
       "      <td>Add Spotinst integration for worker nodes as a...</td>\n",
       "      <td>Add Spotinst integration for worker nodes as a...</td>\n",
       "      <td>cost</td>\n",
       "      <td>cost-saving-instance</td>\n",
       "      <td></td>\n",
       "      <td>Positive</td>\n",
       "      <td></td>\n",
       "    </tr>\n",
       "    <tr>\n",
       "      <th>21</th>\n",
       "      <td>https://github.com/ministryofjustice/modernisa...</td>\n",
       "      <td>Check billing for regional services configured...</td>\n",
       "      <td>Check billing for regional services configured...</td>\n",
       "      <td>bill</td>\n",
       "      <td>cost-awareness-billing_mode</td>\n",
       "      <td></td>\n",
       "      <td>Positive</td>\n",
       "      <td></td>\n",
       "    </tr>\n",
       "    <tr>\n",
       "      <th>23</th>\n",
       "      <td>https://github.com/ministryofjustice/modernisa...</td>\n",
       "      <td>Add S3 mount for Performance Hub</td>\n",
       "      <td>Add S3 mount for Performance Hub\\n## User Stor...</td>\n",
       "      <td>cost</td>\n",
       "      <td>cost-saving-provider, cost-awareness-provider</td>\n",
       "      <td></td>\n",
       "      <td>Negative</td>\n",
       "      <td></td>\n",
       "    </tr>\n",
       "    <tr>\n",
       "      <th>24</th>\n",
       "      <td>https://github.com/ministryofjustice/modernisa...</td>\n",
       "      <td>create a local sandbox transit gateway</td>\n",
       "      <td>create a local sandbox transit gateway\\nAn iss...</td>\n",
       "      <td>cost</td>\n",
       "      <td>cost-increase-networking-NAT</td>\n",
       "      <td></td>\n",
       "      <td>Negative</td>\n",
       "      <td></td>\n",
       "    </tr>\n",
       "    <tr>\n",
       "      <th>...</th>\n",
       "      <td>...</td>\n",
       "      <td>...</td>\n",
       "      <td>...</td>\n",
       "      <td>...</td>\n",
       "      <td>...</td>\n",
       "      <td>...</td>\n",
       "      <td>...</td>\n",
       "      <td>...</td>\n",
       "    </tr>\n",
       "    <tr>\n",
       "      <th>840</th>\n",
       "      <td>https://github.com/openshift/okd/issues/619</td>\n",
       "      <td>OKD 4.5 in AWS - Cluster did not started after...</td>\n",
       "      <td>OKD 4.5 in AWS - Cluster did not started after...</td>\n",
       "      <td>cost</td>\n",
       "      <td>cost-saving-cluster</td>\n",
       "      <td>kindof</td>\n",
       "      <td>Positive</td>\n",
       "      <td></td>\n",
       "    </tr>\n",
       "    <tr>\n",
       "      <th>855</th>\n",
       "      <td>https://github.com/ExpediaDotCom/haystack/issu...</td>\n",
       "      <td>[Feature Request] Log number of bytes sent and...</td>\n",
       "      <td>[Feature Request] Log number of bytes sent and...</td>\n",
       "      <td>cost</td>\n",
       "      <td>cost-saving-unknown</td>\n",
       "      <td></td>\n",
       "      <td>Positive</td>\n",
       "      <td></td>\n",
       "    </tr>\n",
       "    <tr>\n",
       "      <th>857</th>\n",
       "      <td>https://github.com/Guimove/terraform-aws-basti...</td>\n",
       "      <td>Route53 type CNAME?</td>\n",
       "      <td>Route53 type CNAME?\\nSince rout53 is creating ...</td>\n",
       "      <td>cheap</td>\n",
       "      <td>cost-saving-domain</td>\n",
       "      <td></td>\n",
       "      <td>Positive</td>\n",
       "      <td></td>\n",
       "    </tr>\n",
       "    <tr>\n",
       "      <th>858</th>\n",
       "      <td>https://github.com/Guimove/terraform-aws-basti...</td>\n",
       "      <td>please consider using launch template in place...</td>\n",
       "      <td>please consider using launch template in place...</td>\n",
       "      <td>cost</td>\n",
       "      <td>cost-saving-domain</td>\n",
       "      <td></td>\n",
       "      <td>Positive</td>\n",
       "      <td></td>\n",
       "    </tr>\n",
       "    <tr>\n",
       "      <th>859</th>\n",
       "      <td>https://github.com/Guimove/terraform-aws-basti...</td>\n",
       "      <td>[Feature request] Dynamic-latest AMI support f...</td>\n",
       "      <td>[Feature request] Dynamic-latest AMI support f...</td>\n",
       "      <td>cheap</td>\n",
       "      <td>cost-saving-instance</td>\n",
       "      <td></td>\n",
       "      <td>Positive</td>\n",
       "      <td></td>\n",
       "    </tr>\n",
       "  </tbody>\n",
       "</table>\n",
       "<p>207 rows × 8 columns</p>\n",
       "</div>"
      ]
     },
     "metadata": {},
     "output_type": "display_data"
    }
   ],
   "metadata": {
    "datalore": {
     "type": "CODE",
     "hide_input_from_viewers": false,
     "hide_output_from_viewers": false
    },
    "pycharm": {
     "name": "#%%\n"
    }
   }
  },
  {
   "cell_type": "code",
   "source": [
    "issues_df.drop(labels=[\"keyword\", \"\", \"102\", \"label\"], inplace=True, axis=1)"
   ],
   "execution_count": 180,
   "outputs": [
    {
     "name": "stderr",
     "text": [
      "/opt/python/envs/default/lib/python3.8/site-packages/pandas/core/frame.py:4906: SettingWithCopyWarning: \n",
      "A value is trying to be set on a copy of a slice from a DataFrame\n",
      "\n",
      "See the caveats in the documentation: https://pandas.pydata.org/pandas-docs/stable/user_guide/indexing.html#returning-a-view-versus-a-copy\n",
      "  return super().drop(\n"
     ],
     "output_type": "stream"
    }
   ],
   "metadata": {
    "datalore": {
     "type": "CODE",
     "hide_input_from_viewers": false,
     "hide_output_from_viewers": false
    },
    "pycharm": {
     "name": "#%%\n"
    }
   }
  },
  {
   "cell_type": "code",
   "source": [
    "issues_df"
   ],
   "execution_count": 181,
   "outputs": [
    {
     "data": {
      "text/html": [
       "<div>\n",
       "<style scoped>\n",
       "    .dataframe tbody tr th:only-of-type {\n",
       "        vertical-align: middle;\n",
       "    }\n",
       "\n",
       "    .dataframe tbody tr th {\n",
       "        vertical-align: top;\n",
       "    }\n",
       "\n",
       "    .dataframe thead th {\n",
       "        text-align: right;\n",
       "    }\n",
       "</style>\n",
       "<table border=\"1\" class=\"dataframe\">\n",
       "  <thead>\n",
       "    <tr style=\"text-align: right;\">\n",
       "      <th></th>\n",
       "      <th>html_url</th>\n",
       "      <th>title</th>\n",
       "      <th>body</th>\n",
       "      <th>sentiment</th>\n",
       "    </tr>\n",
       "  </thead>\n",
       "  <tbody>\n",
       "    <tr>\n",
       "      <th>15</th>\n",
       "      <td>https://github.com/coreos/tectonic-installer/i...</td>\n",
       "      <td>Terraform Modules</td>\n",
       "      <td>Terraform Modules\\nFEATURE REQUEST\\r\\n\\r\\nFirs...</td>\n",
       "      <td>Negative</td>\n",
       "    </tr>\n",
       "    <tr>\n",
       "      <th>19</th>\n",
       "      <td>https://github.com/coreos/tectonic-installer/i...</td>\n",
       "      <td>Add Spotinst integration for worker nodes as a...</td>\n",
       "      <td>Add Spotinst integration for worker nodes as a...</td>\n",
       "      <td>Positive</td>\n",
       "    </tr>\n",
       "    <tr>\n",
       "      <th>21</th>\n",
       "      <td>https://github.com/ministryofjustice/modernisa...</td>\n",
       "      <td>Check billing for regional services configured...</td>\n",
       "      <td>Check billing for regional services configured...</td>\n",
       "      <td>Positive</td>\n",
       "    </tr>\n",
       "    <tr>\n",
       "      <th>23</th>\n",
       "      <td>https://github.com/ministryofjustice/modernisa...</td>\n",
       "      <td>Add S3 mount for Performance Hub</td>\n",
       "      <td>Add S3 mount for Performance Hub\\n## User Stor...</td>\n",
       "      <td>Negative</td>\n",
       "    </tr>\n",
       "    <tr>\n",
       "      <th>24</th>\n",
       "      <td>https://github.com/ministryofjustice/modernisa...</td>\n",
       "      <td>create a local sandbox transit gateway</td>\n",
       "      <td>create a local sandbox transit gateway\\nAn iss...</td>\n",
       "      <td>Negative</td>\n",
       "    </tr>\n",
       "    <tr>\n",
       "      <th>...</th>\n",
       "      <td>...</td>\n",
       "      <td>...</td>\n",
       "      <td>...</td>\n",
       "      <td>...</td>\n",
       "    </tr>\n",
       "    <tr>\n",
       "      <th>840</th>\n",
       "      <td>https://github.com/openshift/okd/issues/619</td>\n",
       "      <td>OKD 4.5 in AWS - Cluster did not started after...</td>\n",
       "      <td>OKD 4.5 in AWS - Cluster did not started after...</td>\n",
       "      <td>Positive</td>\n",
       "    </tr>\n",
       "    <tr>\n",
       "      <th>855</th>\n",
       "      <td>https://github.com/ExpediaDotCom/haystack/issu...</td>\n",
       "      <td>[Feature Request] Log number of bytes sent and...</td>\n",
       "      <td>[Feature Request] Log number of bytes sent and...</td>\n",
       "      <td>Positive</td>\n",
       "    </tr>\n",
       "    <tr>\n",
       "      <th>857</th>\n",
       "      <td>https://github.com/Guimove/terraform-aws-basti...</td>\n",
       "      <td>Route53 type CNAME?</td>\n",
       "      <td>Route53 type CNAME?\\nSince rout53 is creating ...</td>\n",
       "      <td>Positive</td>\n",
       "    </tr>\n",
       "    <tr>\n",
       "      <th>858</th>\n",
       "      <td>https://github.com/Guimove/terraform-aws-basti...</td>\n",
       "      <td>please consider using launch template in place...</td>\n",
       "      <td>please consider using launch template in place...</td>\n",
       "      <td>Positive</td>\n",
       "    </tr>\n",
       "    <tr>\n",
       "      <th>859</th>\n",
       "      <td>https://github.com/Guimove/terraform-aws-basti...</td>\n",
       "      <td>[Feature request] Dynamic-latest AMI support f...</td>\n",
       "      <td>[Feature request] Dynamic-latest AMI support f...</td>\n",
       "      <td>Positive</td>\n",
       "    </tr>\n",
       "  </tbody>\n",
       "</table>\n",
       "<p>207 rows × 4 columns</p>\n",
       "</div>"
      ]
     },
     "metadata": {},
     "output_type": "display_data"
    }
   ],
   "metadata": {
    "datalore": {
     "type": "CODE",
     "hide_input_from_viewers": false,
     "hide_output_from_viewers": false
    },
    "pycharm": {
     "name": "#%%\n"
    }
   }
  },
  {
   "cell_type": "markdown",
   "source": [
    "## Clean and prepare the dataframe for sentiment analysis"
   ],
   "attachments": {},
   "metadata": {
    "datalore": {
     "type": "MD",
     "hide_input_from_viewers": false,
     "hide_output_from_viewers": false
    },
    "pycharm": {
     "name": "#%% md\n"
    }
   }
  },
  {
   "cell_type": "code",
   "source": [
    "# Clear Markdown code and HTML code\n",
    "for index, row in issues_df.iterrows():\n",
    "    row[\"body\"] = markdown(row[\"body\"])\n",
    "    row[\"body\"] = ''.join(BeautifulSoup(row[\"body\"]).findAll(text=True))"
   ],
   "execution_count": 182,
   "outputs": [],
   "metadata": {
    "datalore": {
     "type": "CODE",
     "hide_input_from_viewers": false,
     "hide_output_from_viewers": false
    },
    "pycharm": {
     "name": "#%%\n"
    }
   }
  },
  {
   "cell_type": "code",
   "source": [
    "issues_df[\"Predicted SE\"] = \"\"\n",
    "issues_df"
   ],
   "execution_count": 183,
   "outputs": [
    {
     "name": "stderr",
     "text": [
      "<ipython-input-183-8cc7fc56b683>:1: SettingWithCopyWarning: \n",
      "A value is trying to be set on a copy of a slice from a DataFrame.\n",
      "Try using .loc[row_indexer,col_indexer] = value instead\n",
      "\n",
      "See the caveats in the documentation: https://pandas.pydata.org/pandas-docs/stable/user_guide/indexing.html#returning-a-view-versus-a-copy\n",
      "  issues_df[\"Predicted SE\"] = \"\"\n"
     ],
     "output_type": "stream"
    },
    {
     "data": {
      "text/html": [
       "<div>\n",
       "<style scoped>\n",
       "    .dataframe tbody tr th:only-of-type {\n",
       "        vertical-align: middle;\n",
       "    }\n",
       "\n",
       "    .dataframe tbody tr th {\n",
       "        vertical-align: top;\n",
       "    }\n",
       "\n",
       "    .dataframe thead th {\n",
       "        text-align: right;\n",
       "    }\n",
       "</style>\n",
       "<table border=\"1\" class=\"dataframe\">\n",
       "  <thead>\n",
       "    <tr style=\"text-align: right;\">\n",
       "      <th></th>\n",
       "      <th>html_url</th>\n",
       "      <th>title</th>\n",
       "      <th>body</th>\n",
       "      <th>sentiment</th>\n",
       "      <th>Predicted SE</th>\n",
       "    </tr>\n",
       "  </thead>\n",
       "  <tbody>\n",
       "    <tr>\n",
       "      <th>15</th>\n",
       "      <td>https://github.com/coreos/tectonic-installer/i...</td>\n",
       "      <td>Terraform Modules</td>\n",
       "      <td>Terraform Modules\\nFEATURE REQUEST\\nFirstly th...</td>\n",
       "      <td>Negative</td>\n",
       "      <td></td>\n",
       "    </tr>\n",
       "    <tr>\n",
       "      <th>19</th>\n",
       "      <td>https://github.com/coreos/tectonic-installer/i...</td>\n",
       "      <td>Add Spotinst integration for worker nodes as a...</td>\n",
       "      <td>Add Spotinst integration for worker nodes as a...</td>\n",
       "      <td>Positive</td>\n",
       "      <td></td>\n",
       "    </tr>\n",
       "    <tr>\n",
       "      <th>21</th>\n",
       "      <td>https://github.com/ministryofjustice/modernisa...</td>\n",
       "      <td>Check billing for regional services configured...</td>\n",
       "      <td>Check billing for regional services configured...</td>\n",
       "      <td>Positive</td>\n",
       "      <td></td>\n",
       "    </tr>\n",
       "    <tr>\n",
       "      <th>23</th>\n",
       "      <td>https://github.com/ministryofjustice/modernisa...</td>\n",
       "      <td>Add S3 mount for Performance Hub</td>\n",
       "      <td>Add S3 mount for Performance Hub\\nUser Story\\n...</td>\n",
       "      <td>Negative</td>\n",
       "      <td></td>\n",
       "    </tr>\n",
       "    <tr>\n",
       "      <th>24</th>\n",
       "      <td>https://github.com/ministryofjustice/modernisa...</td>\n",
       "      <td>create a local sandbox transit gateway</td>\n",
       "      <td>create a local sandbox transit gateway\\nAn iss...</td>\n",
       "      <td>Negative</td>\n",
       "      <td></td>\n",
       "    </tr>\n",
       "    <tr>\n",
       "      <th>...</th>\n",
       "      <td>...</td>\n",
       "      <td>...</td>\n",
       "      <td>...</td>\n",
       "      <td>...</td>\n",
       "      <td>...</td>\n",
       "    </tr>\n",
       "    <tr>\n",
       "      <th>840</th>\n",
       "      <td>https://github.com/openshift/okd/issues/619</td>\n",
       "      <td>OKD 4.5 in AWS - Cluster did not started after...</td>\n",
       "      <td>OKD 4.5 in AWS - Cluster did not started after...</td>\n",
       "      <td>Positive</td>\n",
       "      <td></td>\n",
       "    </tr>\n",
       "    <tr>\n",
       "      <th>855</th>\n",
       "      <td>https://github.com/ExpediaDotCom/haystack/issu...</td>\n",
       "      <td>[Feature Request] Log number of bytes sent and...</td>\n",
       "      <td>[Feature Request] Log number of bytes sent and...</td>\n",
       "      <td>Positive</td>\n",
       "      <td></td>\n",
       "    </tr>\n",
       "    <tr>\n",
       "      <th>857</th>\n",
       "      <td>https://github.com/Guimove/terraform-aws-basti...</td>\n",
       "      <td>Route53 type CNAME?</td>\n",
       "      <td>Route53 type CNAME?\\nSince rout53 is creating ...</td>\n",
       "      <td>Positive</td>\n",
       "      <td></td>\n",
       "    </tr>\n",
       "    <tr>\n",
       "      <th>858</th>\n",
       "      <td>https://github.com/Guimove/terraform-aws-basti...</td>\n",
       "      <td>please consider using launch template in place...</td>\n",
       "      <td>please consider using launch template in place...</td>\n",
       "      <td>Positive</td>\n",
       "      <td></td>\n",
       "    </tr>\n",
       "    <tr>\n",
       "      <th>859</th>\n",
       "      <td>https://github.com/Guimove/terraform-aws-basti...</td>\n",
       "      <td>[Feature request] Dynamic-latest AMI support f...</td>\n",
       "      <td>[Feature request] Dynamic-latest AMI support f...</td>\n",
       "      <td>Positive</td>\n",
       "      <td></td>\n",
       "    </tr>\n",
       "  </tbody>\n",
       "</table>\n",
       "<p>207 rows × 5 columns</p>\n",
       "</div>"
      ]
     },
     "metadata": {},
     "output_type": "display_data"
    }
   ],
   "metadata": {
    "datalore": {
     "type": "CODE",
     "hide_input_from_viewers": false,
     "hide_output_from_viewers": false
    },
    "pycharm": {
     "name": "#%%\n"
    }
   }
  },
  {
   "cell_type": "code",
   "source": [
    "nlp = stanza.Pipeline(lang='en', processors='tokenize,sentiment')\n",
    "\n",
    "for index, row in issues_df.iterrows():\n",
    "\n",
    "    doc = nlp(row[\"body\"])\n",
    "    sentiment = 0\n",
    "    size = len(doc.sentences)\n",
    "    # To circumvent the way Stanza works, we add up the sentiment for all sentences in a document and divide by \n",
    "    # the number of sentences.\n",
    "    for i, sentence in enumerate(doc.sentences):\n",
    "        sentiment += sentence.sentiment\n",
    "\n",
    "    sentiment = sentiment / size\n",
    "\n",
    "    # Round to the closest integer so we can cast it to a sentiment.\n",
    "    sentiment = round(sentiment, 0)\n",
    "\n",
    "    if sentiment == 0:\n",
    "        sa = \"Negative\"\n",
    "    elif sentiment == 1:\n",
    "        sa = \"Neutral\"\n",
    "    else:\n",
    "        sa = \"Positive\"\n",
    "\n",
    "    row[\"Predicted SE\"] = sa"
   ],
   "execution_count": 184,
   "outputs": [
    {
     "name": "stderr",
     "text": [
      "2022-07-06 20:17:25 INFO: Loading these models for language: en (English):\n",
      "========================\n",
      "| Processor | Package  |\n",
      "------------------------\n",
      "| tokenize  | combined |\n",
      "| sentiment | sstplus  |\n",
      "========================\n",
      "\n",
      "2022-07-06 20:17:25 INFO: Use device: cpu\n",
      "2022-07-06 20:17:25 INFO: Loading: tokenize\n",
      "2022-07-06 20:17:25 INFO: Loading: sentiment\n",
      "2022-07-06 20:17:25 INFO: Done loading processors!\n"
     ],
     "output_type": "stream"
    },
    {
     "data": {
      "application/vnd.jupyter.widget-view+json": {
       "version_major": 2,
       "version_minor": 0,
       "model_id": "89c7c27ba69a47b09d64240508cf76a7"
      }
     },
     "metadata": {},
     "output_type": "display_data"
    }
   ],
   "metadata": {
    "datalore": {
     "type": "CODE",
     "hide_input_from_viewers": false,
     "hide_output_from_viewers": false
    },
    "pycharm": {
     "name": "#%%\n"
    }
   }
  },
  {
   "cell_type": "code",
   "source": [
    "issues_df"
   ],
   "execution_count": 185,
   "outputs": [
    {
     "data": {
      "text/html": [
       "<div>\n",
       "<style scoped>\n",
       "    .dataframe tbody tr th:only-of-type {\n",
       "        vertical-align: middle;\n",
       "    }\n",
       "\n",
       "    .dataframe tbody tr th {\n",
       "        vertical-align: top;\n",
       "    }\n",
       "\n",
       "    .dataframe thead th {\n",
       "        text-align: right;\n",
       "    }\n",
       "</style>\n",
       "<table border=\"1\" class=\"dataframe\">\n",
       "  <thead>\n",
       "    <tr style=\"text-align: right;\">\n",
       "      <th></th>\n",
       "      <th>html_url</th>\n",
       "      <th>title</th>\n",
       "      <th>body</th>\n",
       "      <th>sentiment</th>\n",
       "      <th>Predicted SE</th>\n",
       "    </tr>\n",
       "  </thead>\n",
       "  <tbody>\n",
       "    <tr>\n",
       "      <th>15</th>\n",
       "      <td>https://github.com/coreos/tectonic-installer/i...</td>\n",
       "      <td>Terraform Modules</td>\n",
       "      <td>Terraform Modules\\nFEATURE REQUEST\\nFirstly th...</td>\n",
       "      <td>Negative</td>\n",
       "      <td>Neutral</td>\n",
       "    </tr>\n",
       "    <tr>\n",
       "      <th>19</th>\n",
       "      <td>https://github.com/coreos/tectonic-installer/i...</td>\n",
       "      <td>Add Spotinst integration for worker nodes as a...</td>\n",
       "      <td>Add Spotinst integration for worker nodes as a...</td>\n",
       "      <td>Positive</td>\n",
       "      <td>Neutral</td>\n",
       "    </tr>\n",
       "    <tr>\n",
       "      <th>21</th>\n",
       "      <td>https://github.com/ministryofjustice/modernisa...</td>\n",
       "      <td>Check billing for regional services configured...</td>\n",
       "      <td>Check billing for regional services configured...</td>\n",
       "      <td>Positive</td>\n",
       "      <td>Negative</td>\n",
       "    </tr>\n",
       "    <tr>\n",
       "      <th>23</th>\n",
       "      <td>https://github.com/ministryofjustice/modernisa...</td>\n",
       "      <td>Add S3 mount for Performance Hub</td>\n",
       "      <td>Add S3 mount for Performance Hub\\nUser Story\\n...</td>\n",
       "      <td>Negative</td>\n",
       "      <td>Neutral</td>\n",
       "    </tr>\n",
       "    <tr>\n",
       "      <th>24</th>\n",
       "      <td>https://github.com/ministryofjustice/modernisa...</td>\n",
       "      <td>create a local sandbox transit gateway</td>\n",
       "      <td>create a local sandbox transit gateway\\nAn iss...</td>\n",
       "      <td>Negative</td>\n",
       "      <td>Neutral</td>\n",
       "    </tr>\n",
       "    <tr>\n",
       "      <th>...</th>\n",
       "      <td>...</td>\n",
       "      <td>...</td>\n",
       "      <td>...</td>\n",
       "      <td>...</td>\n",
       "      <td>...</td>\n",
       "    </tr>\n",
       "    <tr>\n",
       "      <th>840</th>\n",
       "      <td>https://github.com/openshift/okd/issues/619</td>\n",
       "      <td>OKD 4.5 in AWS - Cluster did not started after...</td>\n",
       "      <td>OKD 4.5 in AWS - Cluster did not started after...</td>\n",
       "      <td>Positive</td>\n",
       "      <td>Neutral</td>\n",
       "    </tr>\n",
       "    <tr>\n",
       "      <th>855</th>\n",
       "      <td>https://github.com/ExpediaDotCom/haystack/issu...</td>\n",
       "      <td>[Feature Request] Log number of bytes sent and...</td>\n",
       "      <td>[Feature Request] Log number of bytes sent and...</td>\n",
       "      <td>Positive</td>\n",
       "      <td>Neutral</td>\n",
       "    </tr>\n",
       "    <tr>\n",
       "      <th>857</th>\n",
       "      <td>https://github.com/Guimove/terraform-aws-basti...</td>\n",
       "      <td>Route53 type CNAME?</td>\n",
       "      <td>Route53 type CNAME?\\nSince rout53 is creating ...</td>\n",
       "      <td>Positive</td>\n",
       "      <td>Neutral</td>\n",
       "    </tr>\n",
       "    <tr>\n",
       "      <th>858</th>\n",
       "      <td>https://github.com/Guimove/terraform-aws-basti...</td>\n",
       "      <td>please consider using launch template in place...</td>\n",
       "      <td>please consider using launch template in place...</td>\n",
       "      <td>Positive</td>\n",
       "      <td>Neutral</td>\n",
       "    </tr>\n",
       "    <tr>\n",
       "      <th>859</th>\n",
       "      <td>https://github.com/Guimove/terraform-aws-basti...</td>\n",
       "      <td>[Feature request] Dynamic-latest AMI support f...</td>\n",
       "      <td>[Feature request] Dynamic-latest AMI support f...</td>\n",
       "      <td>Positive</td>\n",
       "      <td>Neutral</td>\n",
       "    </tr>\n",
       "  </tbody>\n",
       "</table>\n",
       "<p>207 rows × 5 columns</p>\n",
       "</div>"
      ]
     },
     "metadata": {},
     "output_type": "display_data"
    }
   ],
   "metadata": {
    "datalore": {
     "type": "CODE",
     "hide_input_from_viewers": false,
     "hide_output_from_viewers": false
    },
    "pycharm": {
     "name": "#%%\n"
    }
   }
  },
  {
   "cell_type": "code",
   "source": [
    "issues_df[issues_df[\"sentiment\"] != \"\"]"
   ],
   "execution_count": 188,
   "outputs": [
    {
     "data": {
      "text/html": [
       "<div>\n",
       "<style scoped>\n",
       "    .dataframe tbody tr th:only-of-type {\n",
       "        vertical-align: middle;\n",
       "    }\n",
       "\n",
       "    .dataframe tbody tr th {\n",
       "        vertical-align: top;\n",
       "    }\n",
       "\n",
       "    .dataframe thead th {\n",
       "        text-align: right;\n",
       "    }\n",
       "</style>\n",
       "<table border=\"1\" class=\"dataframe\">\n",
       "  <thead>\n",
       "    <tr style=\"text-align: right;\">\n",
       "      <th></th>\n",
       "      <th>html_url</th>\n",
       "      <th>title</th>\n",
       "      <th>body</th>\n",
       "      <th>sentiment</th>\n",
       "      <th>Predicted SE</th>\n",
       "    </tr>\n",
       "  </thead>\n",
       "  <tbody>\n",
       "    <tr>\n",
       "      <th>15</th>\n",
       "      <td>https://github.com/coreos/tectonic-installer/i...</td>\n",
       "      <td>Terraform Modules</td>\n",
       "      <td>Terraform Modules\\nFEATURE REQUEST\\nFirstly th...</td>\n",
       "      <td>Negative</td>\n",
       "      <td>Neutral</td>\n",
       "    </tr>\n",
       "    <tr>\n",
       "      <th>19</th>\n",
       "      <td>https://github.com/coreos/tectonic-installer/i...</td>\n",
       "      <td>Add Spotinst integration for worker nodes as a...</td>\n",
       "      <td>Add Spotinst integration for worker nodes as a...</td>\n",
       "      <td>Positive</td>\n",
       "      <td>Neutral</td>\n",
       "    </tr>\n",
       "    <tr>\n",
       "      <th>21</th>\n",
       "      <td>https://github.com/ministryofjustice/modernisa...</td>\n",
       "      <td>Check billing for regional services configured...</td>\n",
       "      <td>Check billing for regional services configured...</td>\n",
       "      <td>Positive</td>\n",
       "      <td>Negative</td>\n",
       "    </tr>\n",
       "    <tr>\n",
       "      <th>23</th>\n",
       "      <td>https://github.com/ministryofjustice/modernisa...</td>\n",
       "      <td>Add S3 mount for Performance Hub</td>\n",
       "      <td>Add S3 mount for Performance Hub\\nUser Story\\n...</td>\n",
       "      <td>Negative</td>\n",
       "      <td>Neutral</td>\n",
       "    </tr>\n",
       "    <tr>\n",
       "      <th>24</th>\n",
       "      <td>https://github.com/ministryofjustice/modernisa...</td>\n",
       "      <td>create a local sandbox transit gateway</td>\n",
       "      <td>create a local sandbox transit gateway\\nAn iss...</td>\n",
       "      <td>Negative</td>\n",
       "      <td>Neutral</td>\n",
       "    </tr>\n",
       "    <tr>\n",
       "      <th>...</th>\n",
       "      <td>...</td>\n",
       "      <td>...</td>\n",
       "      <td>...</td>\n",
       "      <td>...</td>\n",
       "      <td>...</td>\n",
       "    </tr>\n",
       "    <tr>\n",
       "      <th>840</th>\n",
       "      <td>https://github.com/openshift/okd/issues/619</td>\n",
       "      <td>OKD 4.5 in AWS - Cluster did not started after...</td>\n",
       "      <td>OKD 4.5 in AWS - Cluster did not started after...</td>\n",
       "      <td>Positive</td>\n",
       "      <td>Neutral</td>\n",
       "    </tr>\n",
       "    <tr>\n",
       "      <th>855</th>\n",
       "      <td>https://github.com/ExpediaDotCom/haystack/issu...</td>\n",
       "      <td>[Feature Request] Log number of bytes sent and...</td>\n",
       "      <td>[Feature Request] Log number of bytes sent and...</td>\n",
       "      <td>Positive</td>\n",
       "      <td>Neutral</td>\n",
       "    </tr>\n",
       "    <tr>\n",
       "      <th>857</th>\n",
       "      <td>https://github.com/Guimove/terraform-aws-basti...</td>\n",
       "      <td>Route53 type CNAME?</td>\n",
       "      <td>Route53 type CNAME?\\nSince rout53 is creating ...</td>\n",
       "      <td>Positive</td>\n",
       "      <td>Neutral</td>\n",
       "    </tr>\n",
       "    <tr>\n",
       "      <th>858</th>\n",
       "      <td>https://github.com/Guimove/terraform-aws-basti...</td>\n",
       "      <td>please consider using launch template in place...</td>\n",
       "      <td>please consider using launch template in place...</td>\n",
       "      <td>Positive</td>\n",
       "      <td>Neutral</td>\n",
       "    </tr>\n",
       "    <tr>\n",
       "      <th>859</th>\n",
       "      <td>https://github.com/Guimove/terraform-aws-basti...</td>\n",
       "      <td>[Feature request] Dynamic-latest AMI support f...</td>\n",
       "      <td>[Feature request] Dynamic-latest AMI support f...</td>\n",
       "      <td>Positive</td>\n",
       "      <td>Neutral</td>\n",
       "    </tr>\n",
       "  </tbody>\n",
       "</table>\n",
       "<p>100 rows × 5 columns</p>\n",
       "</div>"
      ]
     },
     "metadata": {},
     "output_type": "display_data"
    }
   ],
   "metadata": {
    "datalore": {
     "type": "CODE",
     "hide_input_from_viewers": false,
     "hide_output_from_viewers": false
    },
    "pycharm": {
     "name": "#%%\n"
    }
   }
  },
  {
   "cell_type": "code",
   "source": [
    "expected = []\n",
    "predicted = []\n",
    "for index, row in issues_df.iterrows():\n",
    "    if row[\"sentiment\"]:\n",
    "        expected.append(row[\"sentiment\"])\n",
    "        predicted.append(row[\"Predicted SE\"])"
   ],
   "execution_count": 189,
   "outputs": [],
   "metadata": {
    "datalore": {
     "type": "CODE",
     "hide_input_from_viewers": false,
     "hide_output_from_viewers": false
    },
    "pycharm": {
     "name": "#%%\n"
    }
   }
  },
  {
   "cell_type": "code",
   "source": [
    "results = confusion_matrix(expected, predicted, labels=[\"Negative\", \"Neutral\", \"Positive\"])\n",
    "print(results)"
   ],
   "execution_count": 190,
   "outputs": [
    {
     "name": "stdout",
     "text": [
      "[[ 7 24  0]\n",
      " [ 3 19  1]\n",
      " [ 5 41  0]]\n"
     ],
     "output_type": "stream"
    }
   ],
   "metadata": {
    "datalore": {
     "type": "CODE",
     "hide_input_from_viewers": false,
     "hide_output_from_viewers": false
    },
    "pycharm": {
     "name": "#%%\n"
    }
   }
  },
  {
   "cell_type": "code",
   "source": [
    "import seaborn as sns\n",
    "\n",
    "sns.set(rc = {'figure.figsize':(15,8)})\n",
    "\n",
    "ax = sns.heatmap(results, annot=True, cmap='Blues', cbar = False, annot_kws={\"size\": 20})\n",
    "\n",
    "ax.set_title(f'Accuracy score for Stanza: {int(accuracy_score(expected, predicted) * 100)}%\\n\\n', fontsize=20, weight='bold')\n",
    "ax.set_xlabel('\\nPredicted Values', fontsize = 20)\n",
    "ax.set_ylabel('Actual Values ', fontsize = 20)\n",
    "\n",
    "## Ticket labels - List must be in alphabetical order\n",
    "ax.xaxis.set_ticklabels(['Negative','Neutral', 'Positive'], fontsize = 20)\n",
    "ax.yaxis.set_ticklabels(['Negative','Neutral', 'Positive'], fontsize = 20)\n",
    "figure = ax.get_figure()\n",
    "\n",
    "figure.savefig('Stanza-matrix.png', bbox_inches='tight')"
   ],
   "execution_count": 191,
   "outputs": [
    {
     "data": {
      "image/png": "[encoded data removed]"
     },
     "metadata": {
      "image/png": {}
     },
     "output_type": "display_data"
    }
   ],
   "metadata": {
    "datalore": {
     "type": "CODE",
     "hide_input_from_viewers": false,
     "hide_output_from_viewers": false
    },
    "pycharm": {
     "name": "#%%\n"
    }
   }
  },
  {
   "cell_type": "code",
   "source": [],
   "execution_count": null,
   "outputs": [],
   "metadata": {
    "datalore": {
     "type": "CODE",
     "hide_input_from_viewers": false,
     "hide_output_from_viewers": false
    },
    "pycharm": {
     "name": "#%%\n"
    }
   }
  }
 ],
 "metadata": {
  "datalore": {
   "version": 1,
   "computation_mode": "JUPYTER",
   "package_manager": "pip",
   "base_environment": "default",
   "packages": [
    {
     "name": "pygsheets",
     "version": "2.0.5",
     "source": "PIP"
    },
    {
     "name": "textblob",
     "version": "0.17.1",
     "source": "PIP"
    },
    {
     "name": "vadersentiment",
     "version": "3.3.2",
     "source": "PIP"
    },
    {
     "name": "stanza",
     "version": "1.4.0",
     "source": "PIP"
    }
   ]
  }
 },
 "nbformat": 4,
 "nbformat_minor": 4
}